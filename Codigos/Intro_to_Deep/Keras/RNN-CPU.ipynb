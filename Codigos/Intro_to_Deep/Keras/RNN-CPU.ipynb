{
 "cells": [
  {
   "cell_type": "markdown",
   "metadata": {
    "run_control": {
     "marked": true
    }
   },
   "source": [
    "# Machine Learning Foundation\n",
    "\n",
    "## Course 5, Part g: RNN DEMO"
   ]
  },
  {
   "cell_type": "markdown",
   "metadata": {},
   "source": [
    "## Using RNNs to classify sentiment on IMDB data\n",
    "For this exercise, we will train a \"vanilla\" RNN to predict the sentiment on IMDB reviews.  Our data consists of 25000 training sequences and 25000 test sequences.  The outcome is binary (positive/negative) and both outcomes are equally represented in both the training and the test set.\n",
    "\n",
    "Keras provides a convenient interface to load the data and immediately encode the words into integers (based on the most common words).  This will save us a lot of the drudgery that is usually involved when working with raw text.\n",
    "\n",
    "We will walk through the preparation of the data and the building of an RNN model.  Then it will be your turn to build your own models (and prepare the data how you see fit)."
   ]
  },
  {
   "cell_type": "code",
   "execution_count": 1,
   "metadata": {},
   "outputs": [],
   "source": [
    "#from tensorflow import keras\n",
    "#from tensorflow.keras.preprocessing import sequence\n",
    "#from tensorflow.keras.models import Sequential\n",
    "#from tensorflow.keras.layers import Dense, Embedding\n",
    "#from tensorflow.keras.layers import SimpleRNN\n",
    "#from tensorflow.keras.datasets import imdb\n",
    "#from tensorflow.keras import initializers\n",
    "import keras\n",
    "from keras.preprocessing import sequence\n",
    "from keras.models import Sequential\n",
    "from keras.layers import Dense, Embedding\n",
    "from keras.layers import SimpleRNN\n",
    "from keras.datasets import imdb\n",
    "from keras import initializers\n",
    "from keras.utils import pad_sequences"
   ]
  },
  {
   "cell_type": "code",
   "execution_count": 2,
   "metadata": {},
   "outputs": [],
   "source": [
    "max_features = 20000  # This is used in loading the data, picks the most common (max_features) words\n",
    "maxlen = 30  # maximum length of a sequence - truncate after this\n",
    "batch_size = 32"
   ]
  },
  {
   "cell_type": "code",
   "execution_count": 3,
   "metadata": {},
   "outputs": [
    {
     "name": "stdout",
     "output_type": "stream",
     "text": [
      "25000 train sequences\n",
      "25000 test sequences\n"
     ]
    }
   ],
   "source": [
    "## Load in the data.  The function automatically tokenizes the text into distinct integers\n",
    "(x_train, y_train), (x_test, y_test) = imdb.load_data(num_words=max_features)\n",
    "print(len(x_train), 'train sequences')\n",
    "print(len(x_test), 'test sequences')"
   ]
  },
  {
   "cell_type": "code",
   "execution_count": 4,
   "metadata": {},
   "outputs": [
    {
     "name": "stdout",
     "output_type": "stream",
     "text": [
      "x_train shape: (25000, 30)\n",
      "x_test shape: (25000, 30)\n"
     ]
    }
   ],
   "source": [
    "# This pads (or truncates) the sequences so that they are of the maximum length\n",
    "x_train = pad_sequences(x_train, maxlen=maxlen)\n",
    "x_test = pad_sequences(x_test, maxlen=maxlen)\n",
    "print('x_train shape:', x_train.shape)\n",
    "print('x_test shape:', x_test.shape)"
   ]
  },
  {
   "cell_type": "code",
   "execution_count": 5,
   "metadata": {},
   "outputs": [
    {
     "data": {
      "text/plain": [
       "array([  219,   141,    35,   221,   956,    54,    13,    16,    11,\n",
       "        2714,    61,   322,   423,    12,    38,    76,    59,  1803,\n",
       "          72,     8, 10508,    23,     5,   967,    12,    38,    85,\n",
       "          62,   358,    99], dtype=int32)"
      ]
     },
     "execution_count": 5,
     "metadata": {},
     "output_type": "execute_result"
    }
   ],
   "source": [
    "x_train[123,:]  #Here's what an example sequence looks like"
   ]
  },
  {
   "cell_type": "markdown",
   "metadata": {},
   "source": [
    "## Keras layers for (Vanilla) RNNs\n",
    "\n",
    "In this exercise, we will not use pre-trained word vectors.  Rather we will learn an embedding as part of the Neural Network.  This is represented by the Embedding Layer below.\n",
    "\n",
    "### Embedding Layer\n",
    "`keras.layers.embeddings.Embedding(input_dim, output_dim, embeddings_initializer='uniform', embeddings_regularizer=None, activity_regularizer=None, embeddings_constraint=None, mask_zero=False, input_length=None)`\n",
    "\n",
    "- This layer maps each integer into a distinct (dense) word vector of length `output_dim`.\n",
    "- Can think of this as learning a word vector embedding \"on the fly\" rather than using an existing mapping (like GloVe)\n",
    "- The `input_dim` should be the size of the vocabulary.\n",
    "- The `input_length` specifies the length of the sequences that the network expects.\n",
    "\n",
    "### SimpleRNN Layer\n",
    "`keras.layers.recurrent.SimpleRNN(units, activation='tanh', use_bias=True, kernel_initializer='glorot_uniform', recurrent_initializer='orthogonal', bias_initializer='zeros', kernel_regularizer=None, recurrent_regularizer=None, bias_regularizer=None, activity_regularizer=None, kernel_constraint=None, recurrent_constraint=None, bias_constraint=None, dropout=0.0, recurrent_dropout=0.0)`\n",
    "\n",
    "- This is the basic RNN, where the output is also fed back as the \"hidden state\" to the next iteration.\n",
    "- The parameter `units` gives the dimensionality of the output (and therefore the hidden state).  Note that typically there will be another layer after the RNN mapping the (RNN) output to the network output.  So we should think of this value as the desired dimensionality of the hidden state and not necessarily the desired output of the network.\n",
    "- Recall that there are two sets of weights, one for the \"recurrent\" phase and the other for the \"kernel\" phase.  These can be configured separately in terms of their initialization, regularization, etc.\n",
    "\n",
    "\n",
    "\n",
    "\n"
   ]
  },
  {
   "cell_type": "code",
   "execution_count": 7,
   "metadata": {},
   "outputs": [],
   "source": [
    "## Let's build a RNN\n",
    "\n",
    "rnn_hidden_dim = 5\n",
    "word_embedding_dim = 50\n",
    "model_rnn = Sequential()\n",
    "model_rnn.add(Embedding(max_features, word_embedding_dim))  #This layer takes each integer in the sequence and embeds it in a 50-dimensional vector\n",
    "model_rnn.add(SimpleRNN(rnn_hidden_dim,\n",
    "                    kernel_initializer=initializers.RandomNormal(stddev=0.001),\n",
    "                    recurrent_initializer=initializers.Identity(gain=1.0),\n",
    "                    activation='relu',\n",
    "                    input_shape=x_train.shape[1:]))\n",
    "\n",
    "model_rnn.add(Dense(1, activation='sigmoid'))"
   ]
  },
  {
   "cell_type": "code",
   "execution_count": 8,
   "metadata": {},
   "outputs": [
    {
     "name": "stdout",
     "output_type": "stream",
     "text": [
      "Model: \"sequential_1\"\n",
      "_________________________________________________________________\n",
      " Layer (type)                Output Shape              Param #   \n",
      "=================================================================\n",
      " embedding_1 (Embedding)     (None, None, 50)          1000000   \n",
      "                                                                 \n",
      " simple_rnn_1 (SimpleRNN)    (None, 5)                 280       \n",
      "                                                                 \n",
      " dense_1 (Dense)             (None, 1)                 6         \n",
      "                                                                 \n",
      "=================================================================\n",
      "Total params: 1,000,286\n",
      "Trainable params: 1,000,286\n",
      "Non-trainable params: 0\n",
      "_________________________________________________________________\n"
     ]
    }
   ],
   "source": [
    "## Note that most of the parameters come from the embedding layer\n",
    "model_rnn.summary()"
   ]
  },
  {
   "cell_type": "code",
   "execution_count": 9,
   "metadata": {},
   "outputs": [
    {
     "name": "stderr",
     "output_type": "stream",
     "text": [
      "/Users/itnas/miniconda3/envs/tensorflow/lib/python3.10/site-packages/keras/optimizers/optimizer_v2/rmsprop.py:135: UserWarning: The `lr` argument is deprecated, use `learning_rate` instead.\n",
      "  super(RMSprop, self).__init__(name, **kwargs)\n"
     ]
    }
   ],
   "source": [
    "rmsprop = keras.optimizers.RMSprop(lr = .0001)\n",
    "\n",
    "model_rnn.compile(loss='binary_crossentropy',\n",
    "              optimizer=rmsprop,\n",
    "              metrics=['accuracy'])"
   ]
  },
  {
   "cell_type": "code",
   "execution_count": 11,
   "metadata": {},
   "outputs": [
    {
     "name": "stdout",
     "output_type": "stream",
     "text": [
      "Epoch 1/10\n"
     ]
    },
    {
     "name": "stderr",
     "output_type": "stream",
     "text": [
      "2023-03-22 09:09:52.990672: W tensorflow/core/platform/profile_utils/cpu_utils.cc:128] Failed to get CPU frequency: 0 Hz\n",
      "2023-03-22 09:09:53.420663: I tensorflow/core/grappler/optimizers/custom_graph_optimizer_registry.cc:113] Plugin optimizer for device_type GPU is enabled.\n"
     ]
    },
    {
     "name": "stdout",
     "output_type": "stream",
     "text": [
      "781/782 [============================>.] - ETA: 0s - loss: 0.6615 - accuracy: 0.6189"
     ]
    },
    {
     "name": "stderr",
     "output_type": "stream",
     "text": [
      "2023-03-22 09:10:08.946211: I tensorflow/core/grappler/optimizers/custom_graph_optimizer_registry.cc:113] Plugin optimizer for device_type GPU is enabled.\n"
     ]
    },
    {
     "name": "stdout",
     "output_type": "stream",
     "text": [
      "782/782 [==============================] - 25s 31ms/step - loss: 0.6615 - accuracy: 0.6189 - val_loss: 0.6044 - val_accuracy: 0.6915\n",
      "Epoch 2/10\n",
      "782/782 [==============================] - 23s 29ms/step - loss: 0.5513 - accuracy: 0.7264 - val_loss: 0.5322 - val_accuracy: 0.7307\n",
      "Epoch 3/10\n",
      "782/782 [==============================] - 22s 29ms/step - loss: 0.4840 - accuracy: 0.7686 - val_loss: 0.4966 - val_accuracy: 0.7553\n",
      "Epoch 4/10\n",
      "782/782 [==============================] - 22s 29ms/step - loss: 0.4439 - accuracy: 0.7946 - val_loss: 0.4767 - val_accuracy: 0.7673\n",
      "Epoch 5/10\n",
      "782/782 [==============================] - 22s 29ms/step - loss: 0.4163 - accuracy: 0.8103 - val_loss: 0.4663 - val_accuracy: 0.7737\n",
      "Epoch 6/10\n",
      "782/782 [==============================] - 22s 29ms/step - loss: 0.3976 - accuracy: 0.8213 - val_loss: 0.4532 - val_accuracy: 0.7817\n",
      "Epoch 7/10\n",
      "782/782 [==============================] - 22s 29ms/step - loss: 0.3832 - accuracy: 0.8278 - val_loss: 0.4517 - val_accuracy: 0.7846\n",
      "Epoch 8/10\n",
      "782/782 [==============================] - 22s 29ms/step - loss: 0.3727 - accuracy: 0.8339 - val_loss: 0.4445 - val_accuracy: 0.7876\n",
      "Epoch 9/10\n",
      "782/782 [==============================] - 22s 29ms/step - loss: 0.3643 - accuracy: 0.8392 - val_loss: 0.4472 - val_accuracy: 0.7878\n",
      "Epoch 10/10\n",
      "782/782 [==============================] - 22s 29ms/step - loss: 0.3576 - accuracy: 0.8441 - val_loss: 0.4466 - val_accuracy: 0.7894\n"
     ]
    }
   ],
   "source": [
    "import tensorflow as tf\n",
    "with tf.device(\"/cpu:0\"):\n",
    "    model_rnn.fit(x_train, y_train,\n",
    "          batch_size=batch_size,\n",
    "          epochs=10,\n",
    "          validation_data=(x_test, y_test))"
   ]
  },
  {
   "cell_type": "code",
   "execution_count": 13,
   "metadata": {},
   "outputs": [
    {
     "name": "stdout",
     "output_type": "stream",
     "text": [
      "782/782 [==============================] - 9s 11ms/step - loss: 0.4466 - accuracy: 0.7894\n",
      "Test score: 0.44658035039901733\n",
      "Test accuracy: 0.789359986782074\n"
     ]
    }
   ],
   "source": [
    "with tf.device(\"/cpu:0\"):\n",
    "    score, acc = model_rnn.evaluate(x_test, y_test,\n",
    "                            batch_size=batch_size)\n",
    "print('Test score:', score)\n",
    "print('Test accuracy:', acc)"
   ]
  },
  {
   "cell_type": "markdown",
   "metadata": {},
   "source": [
    "## Exercise\n",
    "\n",
    "In this exercise, we will illustrate:\n",
    "- Preparing the data to use sequences of length 80 rather than length 30.  Does it improve the performance?\n",
    "- Trying different values of the \"max_features\".  Does this  improve the performance?\n",
    "- Trying smaller and larger sizes of the RNN hidden dimension.  How does it affect the model performance?  How does it affect the run time?"
   ]
  },
  {
   "cell_type": "code",
   "execution_count": 14,
   "metadata": {},
   "outputs": [],
   "source": [
    "max_features = 20000  # This is used in loading the data, picks the most common (max_features) words\n",
    "maxlen = 80  # maximum length of a sequence - truncate after this\n",
    "\n",
    "(x_train, y_train), (x_test, y_test) = imdb.load_data(num_words=max_features)\n",
    "\n",
    "x_train = pad_sequences(x_train, maxlen=maxlen)\n",
    "x_test = pad_sequences(x_test, maxlen=maxlen)"
   ]
  },
  {
   "cell_type": "code",
   "execution_count": 15,
   "metadata": {},
   "outputs": [],
   "source": [
    "rnn_hidden_dim = 5\n",
    "word_embedding_dim = 50\n",
    "model_rnn = Sequential()\n",
    "model_rnn.add(Embedding(max_features, word_embedding_dim))  #This layer takes each integer in the sequence\n",
    "model_rnn.add(SimpleRNN(rnn_hidden_dim,\n",
    "                    kernel_initializer=initializers.RandomNormal(stddev=0.001),\n",
    "                    recurrent_initializer=initializers.Identity(gain=1.0),\n",
    "                    activation='relu',\n",
    "                    input_shape=x_train.shape[1:]))\n",
    "\n",
    "model_rnn.add(Dense(1, activation='sigmoid'))"
   ]
  },
  {
   "cell_type": "code",
   "execution_count": 16,
   "metadata": {},
   "outputs": [
    {
     "name": "stderr",
     "output_type": "stream",
     "text": [
      "/Users/itnas/miniconda3/envs/tensorflow/lib/python3.10/site-packages/keras/optimizers/optimizer_v2/rmsprop.py:135: UserWarning: The `lr` argument is deprecated, use `learning_rate` instead.\n",
      "  super(RMSprop, self).__init__(name, **kwargs)\n"
     ]
    }
   ],
   "source": [
    "rmsprop = keras.optimizers.RMSprop(lr = .0001)\n",
    "\n",
    "model_rnn.compile(loss='binary_crossentropy',\n",
    "              optimizer=rmsprop,\n",
    "              metrics=['accuracy'])"
   ]
  },
  {
   "cell_type": "code",
   "execution_count": 17,
   "metadata": {},
   "outputs": [
    {
     "name": "stdout",
     "output_type": "stream",
     "text": [
      "Epoch 1/10\n"
     ]
    },
    {
     "name": "stderr",
     "output_type": "stream",
     "text": [
      "2023-03-22 09:19:01.088003: I tensorflow/core/grappler/optimizers/custom_graph_optimizer_registry.cc:113] Plugin optimizer for device_type GPU is enabled.\n"
     ]
    },
    {
     "name": "stdout",
     "output_type": "stream",
     "text": [
      "782/782 [==============================] - ETA: 0s - loss: 0.5970 - accuracy: 0.6749"
     ]
    },
    {
     "name": "stderr",
     "output_type": "stream",
     "text": [
      "2023-03-22 09:19:33.683675: I tensorflow/core/grappler/optimizers/custom_graph_optimizer_registry.cc:113] Plugin optimizer for device_type GPU is enabled.\n"
     ]
    },
    {
     "name": "stdout",
     "output_type": "stream",
     "text": [
      "782/782 [==============================] - 53s 67ms/step - loss: 0.5970 - accuracy: 0.6749 - val_loss: 0.5045 - val_accuracy: 0.7564\n",
      "Epoch 2/10\n",
      "782/782 [==============================] - 54s 69ms/step - loss: 0.4397 - accuracy: 0.7982 - val_loss: 0.4696 - val_accuracy: 0.7754\n",
      "Epoch 3/10\n",
      "782/782 [==============================] - 52s 67ms/step - loss: 0.3723 - accuracy: 0.8366 - val_loss: 0.4029 - val_accuracy: 0.8158\n",
      "Epoch 4/10\n",
      "782/782 [==============================] - 49s 63ms/step - loss: 0.3322 - accuracy: 0.8605 - val_loss: 0.3854 - val_accuracy: 0.8260\n",
      "Epoch 5/10\n",
      "782/782 [==============================] - 48s 61ms/step - loss: 0.3047 - accuracy: 0.8724 - val_loss: 0.3841 - val_accuracy: 0.8286\n",
      "Epoch 6/10\n",
      "782/782 [==============================] - 47s 61ms/step - loss: 0.2858 - accuracy: 0.8814 - val_loss: 0.3605 - val_accuracy: 0.8394\n",
      "Epoch 7/10\n",
      "782/782 [==============================] - 48s 61ms/step - loss: 0.2723 - accuracy: 0.8870 - val_loss: 0.3654 - val_accuracy: 0.8394\n",
      "Epoch 8/10\n",
      "782/782 [==============================] - 47s 61ms/step - loss: 0.2610 - accuracy: 0.8928 - val_loss: 0.3558 - val_accuracy: 0.8430\n",
      "Epoch 9/10\n",
      "782/782 [==============================] - 48s 61ms/step - loss: 0.2521 - accuracy: 0.8965 - val_loss: 0.3516 - val_accuracy: 0.8454\n",
      "Epoch 10/10\n",
      "782/782 [==============================] - 48s 61ms/step - loss: 0.2441 - accuracy: 0.9002 - val_loss: 0.3552 - val_accuracy: 0.8458\n"
     ]
    }
   ],
   "source": [
    "with tf.device(\"/cpu:0\"):\n",
    "    model_rnn.fit(x_train, y_train,\n",
    "          batch_size=batch_size,\n",
    "          epochs=10,\n",
    "          validation_data=(x_test, y_test))"
   ]
  },
  {
   "cell_type": "code",
   "execution_count": 19,
   "metadata": {},
   "outputs": [],
   "source": [
    "max_features = 5000  # This is used in loading the data, picks the most common (max_features) words\n",
    "maxlen = 80  # maximum length of a sequence - truncate after this\n",
    "\n",
    "(x_train, y_train), (x_test, y_test) = imdb.load_data(num_words=max_features)\n",
    "\n",
    "x_train = pad_sequences(x_train, maxlen=maxlen)\n",
    "x_test = pad_sequences(x_test, maxlen=maxlen)"
   ]
  },
  {
   "cell_type": "code",
   "execution_count": 20,
   "metadata": {},
   "outputs": [],
   "source": [
    "rnn_hidden_dim = 5\n",
    "word_embedding_dim = 20\n",
    "model_rnn = Sequential()\n",
    "model_rnn.add(Embedding(max_features, word_embedding_dim))  #This layer takes each integer in the sequence\n",
    "model_rnn.add(SimpleRNN(rnn_hidden_dim,\n",
    "                    kernel_initializer=initializers.RandomNormal(stddev=0.001),\n",
    "                    recurrent_initializer=initializers.Identity(gain=1.0),\n",
    "                    activation='relu',\n",
    "                    input_shape=x_train.shape[1:]))\n",
    "\n",
    "model_rnn.add(Dense(1, activation='sigmoid'))"
   ]
  },
  {
   "cell_type": "code",
   "execution_count": 21,
   "metadata": {},
   "outputs": [],
   "source": [
    "rmsprop = keras.optimizers.RMSprop(lr = .0001)\n",
    "\n",
    "model_rnn.compile(loss='binary_crossentropy',\n",
    "              optimizer=rmsprop,\n",
    "              metrics=['accuracy'])"
   ]
  },
  {
   "cell_type": "code",
   "execution_count": 22,
   "metadata": {},
   "outputs": [
    {
     "name": "stdout",
     "output_type": "stream",
     "text": [
      "Epoch 1/10\n"
     ]
    },
    {
     "name": "stderr",
     "output_type": "stream",
     "text": [
      "2023-03-22 09:32:07.205449: I tensorflow/core/grappler/optimizers/custom_graph_optimizer_registry.cc:113] Plugin optimizer for device_type GPU is enabled.\n"
     ]
    },
    {
     "name": "stdout",
     "output_type": "stream",
     "text": [
      "782/782 [==============================] - ETA: 0s - loss: 0.6294 - accuracy: 0.6352"
     ]
    },
    {
     "name": "stderr",
     "output_type": "stream",
     "text": [
      "2023-03-22 09:32:41.900284: I tensorflow/core/grappler/optimizers/custom_graph_optimizer_registry.cc:113] Plugin optimizer for device_type GPU is enabled.\n"
     ]
    },
    {
     "name": "stdout",
     "output_type": "stream",
     "text": [
      "782/782 [==============================] - 56s 70ms/step - loss: 0.6294 - accuracy: 0.6352 - val_loss: 0.5441 - val_accuracy: 0.7246\n",
      "Epoch 2/10\n",
      "782/782 [==============================] - 50s 64ms/step - loss: 0.4927 - accuracy: 0.7618 - val_loss: 0.4733 - val_accuracy: 0.7743\n",
      "Epoch 3/10\n",
      "782/782 [==============================] - 49s 63ms/step - loss: 0.4320 - accuracy: 0.7996 - val_loss: 0.4371 - val_accuracy: 0.7957\n",
      "Epoch 4/10\n",
      "782/782 [==============================] - 52s 67ms/step - loss: 0.3913 - accuracy: 0.8235 - val_loss: 0.4087 - val_accuracy: 0.8117\n",
      "Epoch 5/10\n",
      "782/782 [==============================] - 58s 74ms/step - loss: 0.3640 - accuracy: 0.8387 - val_loss: 0.3946 - val_accuracy: 0.8208\n",
      "Epoch 6/10\n",
      "782/782 [==============================] - 52s 67ms/step - loss: 0.3440 - accuracy: 0.8502 - val_loss: 0.3867 - val_accuracy: 0.8255\n",
      "Epoch 7/10\n",
      "782/782 [==============================] - 52s 67ms/step - loss: 0.3292 - accuracy: 0.8590 - val_loss: 0.3729 - val_accuracy: 0.8331\n",
      "Epoch 8/10\n",
      "782/782 [==============================] - 52s 67ms/step - loss: 0.3181 - accuracy: 0.8654 - val_loss: 0.3645 - val_accuracy: 0.8372\n",
      "Epoch 9/10\n",
      "782/782 [==============================] - 54s 69ms/step - loss: 0.3091 - accuracy: 0.8684 - val_loss: 0.3644 - val_accuracy: 0.8369\n",
      "Epoch 10/10\n",
      "782/782 [==============================] - 53s 68ms/step - loss: 0.3019 - accuracy: 0.8715 - val_loss: 0.3564 - val_accuracy: 0.8412\n"
     ]
    }
   ],
   "source": [
    "with tf.device(\"/cpu:0\"):\n",
    "    model_rnn.fit(x_train, y_train,\n",
    "          batch_size=batch_size,\n",
    "          epochs=10,\n",
    "          validation_data=(x_test, y_test))"
   ]
  },
  {
   "cell_type": "code",
   "execution_count": 23,
   "metadata": {},
   "outputs": [
    {
     "name": "stdout",
     "output_type": "stream",
     "text": [
      "Epoch 1/10\n",
      "782/782 [==============================] - 52s 67ms/step - loss: 0.2963 - accuracy: 0.8753 - val_loss: 0.3741 - val_accuracy: 0.8351\n",
      "Epoch 2/10\n",
      "782/782 [==============================] - 56s 71ms/step - loss: 0.2920 - accuracy: 0.8772 - val_loss: 0.3569 - val_accuracy: 0.8418\n",
      "Epoch 3/10\n",
      "782/782 [==============================] - 50s 64ms/step - loss: 0.2871 - accuracy: 0.8794 - val_loss: 0.3618 - val_accuracy: 0.8413\n",
      "Epoch 4/10\n",
      "782/782 [==============================] - 50s 64ms/step - loss: 0.2837 - accuracy: 0.8806 - val_loss: 0.3694 - val_accuracy: 0.8399\n",
      "Epoch 5/10\n",
      "782/782 [==============================] - 51s 66ms/step - loss: 0.2803 - accuracy: 0.8830 - val_loss: 0.3544 - val_accuracy: 0.8440\n",
      "Epoch 6/10\n",
      "782/782 [==============================] - 52s 66ms/step - loss: 0.2782 - accuracy: 0.8820 - val_loss: 0.3582 - val_accuracy: 0.8440\n",
      "Epoch 7/10\n",
      "782/782 [==============================] - 52s 67ms/step - loss: 0.2756 - accuracy: 0.8842 - val_loss: 0.3639 - val_accuracy: 0.8419\n",
      "Epoch 8/10\n",
      "782/782 [==============================] - 55s 70ms/step - loss: 0.2736 - accuracy: 0.8859 - val_loss: 0.3574 - val_accuracy: 0.8447\n",
      "Epoch 9/10\n",
      "782/782 [==============================] - 54s 69ms/step - loss: 0.2717 - accuracy: 0.8871 - val_loss: 0.3596 - val_accuracy: 0.8430\n",
      "Epoch 10/10\n",
      "782/782 [==============================] - 53s 67ms/step - loss: 0.2701 - accuracy: 0.8887 - val_loss: 0.3650 - val_accuracy: 0.8411\n"
     ]
    }
   ],
   "source": [
    "# Out of curiosity, run for 10 more epochs\n",
    "with tf.device(\"/cpu:0\"):\n",
    "    model_rnn.fit(x_train, y_train,\n",
    "          batch_size=batch_size,\n",
    "          epochs=10,\n",
    "          validation_data=(x_test, y_test))"
   ]
  },
  {
   "cell_type": "code",
   "execution_count": 28,
   "metadata": {},
   "outputs": [
    {
     "name": "stdout",
     "output_type": "stream",
     "text": [
      "782/782 [==============================] - 20s 26ms/step\n",
      "[[False]\n",
      " [ True]\n",
      " [ True]\n",
      " ...\n",
      " [False]\n",
      " [False]\n",
      " [ True]]\n"
     ]
    }
   ],
   "source": [
    "with tf.device(\"/cpu:0\"):\n",
    "    print(model_rnn.predict(x_test)>0.5)"
   ]
  },
  {
   "cell_type": "code",
   "execution_count": 29,
   "metadata": {},
   "outputs": [
    {
     "name": "stdout",
     "output_type": "stream",
     "text": [
      "782/782 [==============================] - 21s 26ms/step\n",
      "[[0.0484817 ]\n",
      " [0.9748107 ]\n",
      " [0.901     ]\n",
      " ...\n",
      " [0.01542827]\n",
      " [0.04022381]\n",
      " [0.92631656]]\n"
     ]
    }
   ],
   "source": [
    "with tf.device(\"/cpu:0\"):\n",
    "    print(model_rnn.predict(x_test))"
   ]
  },
  {
   "cell_type": "code",
   "execution_count": 27,
   "metadata": {},
   "outputs": [
    {
     "data": {
      "text/plain": [
       "array([0, 1, 1, ..., 0, 0, 0])"
      ]
     },
     "execution_count": 27,
     "metadata": {},
     "output_type": "execute_result"
    }
   ],
   "source": [
    "y_test"
   ]
  },
  {
   "cell_type": "markdown",
   "metadata": {},
   "source": [
    "---\n",
    "### Machine Learning Foundation (C) 2020 IBM Corporation"
   ]
  }
 ],
 "metadata": {
  "kernelspec": {
   "display_name": "tensorflow",
   "language": "python",
   "name": "python3"
  },
  "language_info": {
   "codemirror_mode": {
    "name": "ipython",
    "version": 3
   },
   "file_extension": ".py",
   "mimetype": "text/x-python",
   "name": "python",
   "nbconvert_exporter": "python",
   "pygments_lexer": "ipython3",
   "version": "3.10.9"
  }
 },
 "nbformat": 4,
 "nbformat_minor": 4
}
