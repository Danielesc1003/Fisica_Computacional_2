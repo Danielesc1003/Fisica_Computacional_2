{
 "cells": [
  {
   "cell_type": "markdown",
   "metadata": {},
   "source": [
    "<img src=\"https://cf-courses-data.s3.us.cloud-object-storage.appdomain.cloud/IBMDeveloperSkillsNetwork-DL0120EN-SkillsNetwork/images/IDSN-logo.png\" width=\"300\" alt=\"cognitiveclass.ai logo\">\n",
    "\n",
    "<h1 align=\"center\"><font size=\"5\">RECURRENT NETWORKS and LSTM IN DEEP LEARNING</font></h1>\n"
   ]
  },
  {
   "cell_type": "markdown",
   "metadata": {},
   "source": [
    "Estimated time needed: **30** minutes\n"
   ]
  },
  {
   "cell_type": "markdown",
   "metadata": {},
   "source": [
    "<h2>Applying Recurrent Neural Networks/LSTM for Language Modeling</h2>\n",
    "Hello and welcome to this part. In this notebook, we will go over the topic of Language Modelling, and create a Recurrent Neural Network model based on the Long Short-Term Memory unit to train and benchmark on the Penn Treebank dataset. By the end of this notebook, you should be able to understand how TensorFlow builds and executes a RNN model for Language Modelling.\n"
   ]
  },
  {
   "cell_type": "markdown",
   "metadata": {},
   "source": [
    "<h2>The Objective</h2>\n",
    "By now, you should have an understanding of how Recurrent Networks work -- a specialized model to process sequential data by keeping track of the \"state\" or context. In this notebook, we go over a TensorFlow code snippet for creating a model focused on <b>Language Modelling</b> -- a very relevant task that is the cornerstone of many different linguistic problems such as <b>Speech Recognition, Machine Translation and Image Captioning</b>. For this, we will be using the Penn Treebank dataset, which is an often-used dataset for benchmarking Language Modelling models.\n"
   ]
  },
  {
   "cell_type": "markdown",
   "metadata": {},
   "source": [
    "\n",
    "<h2>Table of Contents</h2>\n",
    "<ol>\n",
    "    <li><a href=\"#language_modelling\">What exactly is Language Modelling?</a></li>\n",
    "    <li><a href=\"#treebank_dataset\">The Penn Treebank dataset</a></li>\n",
    "    <li><a href=\"#word_embedding\">Word Embedding</a></li>\n",
    "    <li><a href=\"#building_lstm_model\">Building the LSTM model for Language Modeling</a></li>\n",
    "    <li><a href=\"#ltsm\">LTSM</a></li>\n",
    "</ol>\n",
    "<p></p>\n",
    "</div>\n",
    "<br>\n"
   ]
  },
  {
   "cell_type": "markdown",
   "metadata": {},
   "source": [
    "--------\n"
   ]
  },
  {
   "cell_type": "markdown",
   "metadata": {},
   "source": [
    "<a id=\"language_modelling\"></a>\n",
    "<h2>What exactly is Language Modelling?</h2>\n",
    "Language Modelling, to put it simply, <b>is the task of assigning probabilities to sequences of words</b>. This means that, given a context of one or a sequence of words in the language the model was trained on, the model should provide the next most probable words or sequence of words that follows from the given sequence of words the sentence. Language Modelling is one of the most important tasks in Natural Language Processing.\n",
    "\n",
    "<img src=\"https://ibm.box.com/shared/static/1d1i5gub6wljby2vani2vzxp0xsph702.png\" width=\"1080\">\n",
    "<center><i>Example of a sentence being predicted</i></center>\n",
    "<br><br>\n",
    "In this example, one can see the predictions for the next word of a sentence, given the context \"This is an\". As you can see, this boils down to a sequential data analysis task -- you are given a word or a sequence of words (the input data), and, given the context (the state), you need to find out what is the next word (the prediction). This kind of analysis is very important for language-related tasks such as <b>Speech Recognition, Machine Translation, Image Captioning, Text Correction</b> and many other very relevant problems. \n",
    "\n",
    "<img src=\"https://ibm.box.com/shared/static/az39idf9ipfdpc5ugifpgxnydelhyf3i.png\" width=\"1080\">\n",
    "<center><i>The above example is a schema of an RNN in execution</i></center>\n",
    "<br><br>\n",
    "As the above image shows, Recurrent Network models fit this problem like a glove. Alongside LSTM and its capacity to maintain the model's state for over one thousand time steps, we have all the tools we need to undertake this problem. The goal for this notebook is to create a model that can reach <b>low levels of perplexity</b> on our desired dataset.\n",
    "\n",
    "For Language Modelling problems, <b>perplexity</b> is the way to gauge efficiency. Perplexity is simply a measure of how well a probabilistic model is able to predict its sample. A higher-level way to explain this would be saying that <b>low perplexity means a higher degree of trust in the predictions the model makes</b>. Therefore, the lower perplexity is, the better.\n"
   ]
  },
  {
   "cell_type": "markdown",
   "metadata": {},
   "source": [
    "<a id=\"treebank_dataset\"></a>\n",
    "<h2>The Penn Treebank dataset</h2>\n",
    "Historically, datasets big enough for Natural Language Processing are hard to come by. This is in part due to the necessity of the sentences to be broken down and tagged with a certain degree of correctness -- or else the models trained on it won't be able to be correct at all. This means that we need a <b>large amount of data, annotated by or at least corrected by humans</b>. This is, of course, not an easy task at all.\n",
    "\n",
    "The Penn Treebank, or PTB for short, is a dataset maintained by the University of Pennsylvania. It is <i>huge</i> -- there are over <b>four million and eight hundred thousand</b> annotated words in it, all corrected by humans. It is composed of many different sources, from abstracts of Department of Energy papers to texts from the Library of America. Since it is verifiably correct and of such a huge size, the Penn Treebank is commonly used as a benchmark dataset for Language Modelling.\n",
    "\n",
    "The dataset is divided in different kinds of annotations, such as Piece-of-Speech, Syntactic and Semantic skeletons. For this example, we will simply use a sample of clean, non-annotated words (with the exception of one tag --<code>&lt;unk&gt;</code>\n",
    ", which is used for rare words such as uncommon proper nouns) for our model. This means that we just want to predict what the next words would be, not what they mean in context or their classes on a given sentence.\n",
    "\n",
    "<center>Example of text from the dataset we are going to use, <b>ptb.train</b></center>\n",
    "<br><br>\n",
    "\n",
    "<div class=\"alert alert-block alert-info\" style=\"margin-top: 20px\">\n",
    "    <center>the percentage of lung cancer deaths among the workers at the west <code>&lt;unk&gt;</code> mass. paper factory appears to be the highest for any asbestos workers studied in western industrialized countries he said \n",
    " the plant which is owned by <code>&lt;unk&gt;</code> & <code>&lt;unk&gt;</code> co. was under contract with <code>&lt;unk&gt;</code> to make the cigarette filters \n",
    " the finding probably will support those who argue that the U.S. should regulate the class of asbestos including <code>&lt;unk&gt;</code> more <code>&lt;unk&gt;</code> than the common kind of asbestos <code>&lt;unk&gt;</code> found in most schools and other buildings dr. <code>&lt;unk&gt;</code> said</center>\n",
    "</div>\n"
   ]
  },
  {
   "cell_type": "markdown",
   "metadata": {},
   "source": [
    "<a id=\"word_embedding\"></a>\n",
    "<h2>Word Embeddings</h2><br/>\n",
    "\n",
    "For better processing, in this example, we will make use of <a href=\"https://www.tensorflow.org/tutorials/word2vec/?utm_medium=Exinfluencer&utm_source=Exinfluencer&utm_content=000026UJ&utm_term=10006555&utm_id=NA-SkillsNetwork-Channel-SkillsNetworkCoursesIBMDeveloperSkillsNetworkDL0120ENSkillsNetwork954-2022-01-01\"><b>word embeddings</b></a>, which is <b>a way of representing sentence structures or words as n-dimensional vectors (where n is a reasonably high number, such as 200 or 500) of real numbers</b>. Basically, we will assign each word a randomly-initialized vector, and input those into the network to be processed. After a number of iterations, these vectors are expected to assume values that help the network to correctly predict what it needs to -- in our case, the probable next word in the sentence. This is shown to be a very effective task in Natural Language Processing, and is a commonplace practice.\n",
    "<br><br>\n",
    "<font size=\"4\"><strong>\n",
    "$$Vec(\"Example\") = [0.02, 0.00, 0.00, 0.92, 0.30, \\ldots]$$\n",
    "</strong></font>\n",
    "<br>\n",
    "Word Embedding tends to group up similarly used words <i>reasonably</i> close together in the vectorial space. For example, if we use T-SNE (a dimensional reduction visualization algorithm) to flatten the dimensions of our vectors into a 2-dimensional space and plot these words in a 2-dimensional space, we might see something like this:\n",
    "\n",
    "<img src=\"https://ibm.box.com/shared/static/bqhc5dg879gcoabzhxra1w8rkg3od1cu.png\" width=\"800\">\n",
    "<center><i>T-SNE Mockup with clusters marked for easier visualization</i></center>\n",
    "<br><br>\n",
    "As you can see, words that are frequently used together, in place of each other, or in the same places as them tend to be grouped together -- being closer together the higher they are correlated. For example, \"None\" is pretty semantically close to \"Zero\", while a phrase that uses \"Italy\", you could probably also fit \"Germany\" in it, with little damage to the sentence structure. The vectorial \"closeness\" for similar words like this is a great indicator of a well-built model.\n",
    "\n",
    "<hr>\n",
    " \n"
   ]
  },
  {
   "cell_type": "markdown",
   "metadata": {},
   "source": [
    "We need to import the necessary modules for our code. We need <b><code>numpy</code></b> and <b><code>tensorflow</code></b>, obviously. Additionally, we can import directly the <b><code>tensorflow.models.rnn</code></b> model, which includes the function for building RNNs, and <b><code>tensorflow.models.rnn.ptb.reader</code></b> which is the helper module for getting the input data from the dataset we just downloaded.\n",
    "\n",
    "If you want to learn more take a look at https://github.com/tensorflow/models/blob/master/tutorials/rnn/ptb/reader.py\n"
   ]
  },
  {
   "cell_type": "code",
   "execution_count": 2,
   "metadata": {},
   "outputs": [
    {
     "name": "stdout",
     "output_type": "stream",
     "text": [
      "Collecting tensorflow==2.3.0\n",
      "  Downloading tensorflow-2.3.0-cp37-cp37m-manylinux2010_x86_64.whl (320.4 MB)\n",
      "\u001b[2K     \u001b[90m━━━━━━━━━━━━━━━━━━━━━━━━━━━━━━━━━━━━━━━\u001b[0m \u001b[32m320.4/320.4 MB\u001b[0m \u001b[31m1.6 MB/s\u001b[0m eta \u001b[36m0:00:00\u001b[0m00:01\u001b[0m00:01\u001b[0m\n",
      "\u001b[?25hCollecting astunparse==1.6.3\n",
      "  Downloading astunparse-1.6.3-py2.py3-none-any.whl (12 kB)\n",
      "Collecting h5py<2.11.0,>=2.10.0\n",
      "  Downloading h5py-2.10.0-cp37-cp37m-manylinux1_x86_64.whl (2.9 MB)\n",
      "\u001b[2K     \u001b[90m━━━━━━━━━━━━━━━━━━━━━━━━━━━━━━━━━━━━━━━━\u001b[0m \u001b[32m2.9/2.9 MB\u001b[0m \u001b[31m67.2 MB/s\u001b[0m eta \u001b[36m0:00:00\u001b[0m:00:01\u001b[0m\n",
      "\u001b[?25hRequirement already satisfied: absl-py>=0.7.0 in /home/jupyterlab/conda/envs/python/lib/python3.7/site-packages (from tensorflow==2.3.0) (1.3.0)\n",
      "Collecting scipy==1.4.1\n",
      "  Downloading scipy-1.4.1-cp37-cp37m-manylinux1_x86_64.whl (26.1 MB)\n",
      "\u001b[2K     \u001b[90m━━━━━━━━━━━━━━━━━━━━━━━━━━━━━━━━━━━━━━━━\u001b[0m \u001b[32m26.1/26.1 MB\u001b[0m \u001b[31m43.9 MB/s\u001b[0m eta \u001b[36m0:00:00\u001b[0m00:01\u001b[0m00:01\u001b[0m\n",
      "\u001b[?25hRequirement already satisfied: grpcio>=1.8.6 in /home/jupyterlab/conda/envs/python/lib/python3.7/site-packages (from tensorflow==2.3.0) (1.48.1)\n",
      "Collecting tensorboard<3,>=2.3.0\n",
      "  Downloading tensorboard-2.11.2-py3-none-any.whl (6.0 MB)\n",
      "\u001b[2K     \u001b[90m━━━━━━━━━━━━━━━━━━━━━━━━━━━━━━━━━━━━━━━━\u001b[0m \u001b[32m6.0/6.0 MB\u001b[0m \u001b[31m62.0 MB/s\u001b[0m eta \u001b[36m0:00:00\u001b[0m00:01\u001b[0m:00:01\u001b[0m\n",
      "\u001b[?25hCollecting numpy<1.19.0,>=1.16.0\n",
      "  Downloading numpy-1.18.5-cp37-cp37m-manylinux1_x86_64.whl (20.1 MB)\n",
      "\u001b[2K     \u001b[90m━━━━━━━━━━━━━━━━━━━━━━━━━━━━━━━━━━━━━━━━\u001b[0m \u001b[32m20.1/20.1 MB\u001b[0m \u001b[31m50.0 MB/s\u001b[0m eta \u001b[36m0:00:00\u001b[0m00:01\u001b[0m00:01\u001b[0m\n",
      "\u001b[?25hCollecting opt-einsum>=2.3.2\n",
      "  Downloading opt_einsum-3.3.0-py3-none-any.whl (65 kB)\n",
      "\u001b[2K     \u001b[90m━━━━━━━━━━━━━━━━━━━━━━━━━━━━━━━━━━━━━━━━\u001b[0m \u001b[32m65.5/65.5 kB\u001b[0m \u001b[31m10.3 MB/s\u001b[0m eta \u001b[36m0:00:00\u001b[0m\n",
      "\u001b[?25hRequirement already satisfied: wheel>=0.26 in /home/jupyterlab/conda/envs/python/lib/python3.7/site-packages (from tensorflow==2.3.0) (0.38.4)\n",
      "Requirement already satisfied: google-pasta>=0.1.8 in /home/jupyterlab/conda/envs/python/lib/python3.7/site-packages (from tensorflow==2.3.0) (0.2.0)\n",
      "Collecting gast==0.3.3\n",
      "  Downloading gast-0.3.3-py2.py3-none-any.whl (9.7 kB)\n",
      "Requirement already satisfied: keras-preprocessing<1.2,>=1.1.1 in /home/jupyterlab/conda/envs/python/lib/python3.7/site-packages (from tensorflow==2.3.0) (1.1.2)\n",
      "Requirement already satisfied: protobuf>=3.9.2 in /home/jupyterlab/conda/envs/python/lib/python3.7/site-packages (from tensorflow==2.3.0) (4.21.8)\n",
      "Collecting tensorflow-estimator<2.4.0,>=2.3.0\n",
      "  Downloading tensorflow_estimator-2.3.0-py2.py3-none-any.whl (459 kB)\n",
      "\u001b[2K     \u001b[90m━━━━━━━━━━━━━━━━━━━━━━━━━━━━━━━━━━━━━━\u001b[0m \u001b[32m459.0/459.0 kB\u001b[0m \u001b[31m38.5 MB/s\u001b[0m eta \u001b[36m0:00:00\u001b[0m\n",
      "\u001b[?25hRequirement already satisfied: wrapt>=1.11.1 in /home/jupyterlab/conda/envs/python/lib/python3.7/site-packages (from tensorflow==2.3.0) (1.14.1)\n",
      "Requirement already satisfied: six>=1.12.0 in /home/jupyterlab/conda/envs/python/lib/python3.7/site-packages (from tensorflow==2.3.0) (1.16.0)\n",
      "Requirement already satisfied: termcolor>=1.1.0 in /home/jupyterlab/conda/envs/python/lib/python3.7/site-packages (from tensorflow==2.3.0) (2.1.1)\n",
      "Collecting tensorboard-plugin-wit>=1.6.0\n",
      "  Downloading tensorboard_plugin_wit-1.8.1-py3-none-any.whl (781 kB)\n",
      "\u001b[2K     \u001b[90m━━━━━━━━━━━━━━━━━━━━━━━━━━━━━━━━━━━━━━\u001b[0m \u001b[32m781.3/781.3 kB\u001b[0m \u001b[31m53.4 MB/s\u001b[0m eta \u001b[36m0:00:00\u001b[0m\n",
      "\u001b[?25hCollecting google-auth-oauthlib<0.5,>=0.4.1\n",
      "  Downloading google_auth_oauthlib-0.4.6-py2.py3-none-any.whl (18 kB)\n",
      "Collecting protobuf>=3.9.2\n",
      "  Downloading protobuf-3.20.3-cp37-cp37m-manylinux_2_5_x86_64.manylinux1_x86_64.whl (1.0 MB)\n",
      "\u001b[2K     \u001b[90m━━━━━━━━━━━━━━━━━━━━━━━━━━━━━━━━━━━━━━━━\u001b[0m \u001b[32m1.0/1.0 MB\u001b[0m \u001b[31m33.0 MB/s\u001b[0m eta \u001b[36m0:00:00\u001b[0m\n",
      "\u001b[?25hRequirement already satisfied: markdown>=2.6.8 in /home/jupyterlab/conda/envs/python/lib/python3.7/site-packages (from tensorboard<3,>=2.3.0->tensorflow==2.3.0) (3.4.1)\n",
      "Collecting tensorboard-data-server<0.7.0,>=0.6.0\n",
      "  Downloading tensorboard_data_server-0.6.1-py3-none-manylinux2010_x86_64.whl (4.9 MB)\n",
      "\u001b[2K     \u001b[90m━━━━━━━━━━━━━━━━━━━━━━━━━━━━━━━━━━━━━━━━\u001b[0m \u001b[32m4.9/4.9 MB\u001b[0m \u001b[31m61.3 MB/s\u001b[0m eta \u001b[36m0:00:00\u001b[0m:00:01\u001b[0m00:01\u001b[0m\n",
      "\u001b[?25hRequirement already satisfied: setuptools>=41.0.0 in /home/jupyterlab/conda/envs/python/lib/python3.7/site-packages (from tensorboard<3,>=2.3.0->tensorflow==2.3.0) (65.5.1)\n",
      "Requirement already satisfied: requests<3,>=2.21.0 in /home/jupyterlab/conda/envs/python/lib/python3.7/site-packages (from tensorboard<3,>=2.3.0->tensorflow==2.3.0) (2.28.1)\n",
      "Requirement already satisfied: werkzeug>=1.0.1 in /home/jupyterlab/conda/envs/python/lib/python3.7/site-packages (from tensorboard<3,>=2.3.0->tensorflow==2.3.0) (2.2.2)\n",
      "Collecting google-auth<3,>=1.6.3\n",
      "  Downloading google_auth-2.16.0-py2.py3-none-any.whl (177 kB)\n",
      "\u001b[2K     \u001b[90m━━━━━━━━━━━━━━━━━━━━━━━━━━━━━━━━━━━━━━\u001b[0m \u001b[32m177.8/177.8 kB\u001b[0m \u001b[31m24.3 MB/s\u001b[0m eta \u001b[36m0:00:00\u001b[0m\n",
      "\u001b[?25hRequirement already satisfied: pyasn1-modules>=0.2.1 in /home/jupyterlab/conda/envs/python/lib/python3.7/site-packages (from google-auth<3,>=1.6.3->tensorboard<3,>=2.3.0->tensorflow==2.3.0) (0.2.8)\n",
      "Collecting cachetools<6.0,>=2.0.0\n",
      "  Downloading cachetools-5.3.0-py3-none-any.whl (9.3 kB)\n",
      "Collecting rsa<5,>=3.1.4\n",
      "  Using cached rsa-4.9-py3-none-any.whl (34 kB)\n",
      "Collecting requests-oauthlib>=0.7.0\n",
      "  Using cached requests_oauthlib-1.3.1-py2.py3-none-any.whl (23 kB)\n",
      "Requirement already satisfied: importlib-metadata>=4.4 in /home/jupyterlab/conda/envs/python/lib/python3.7/site-packages (from markdown>=2.6.8->tensorboard<3,>=2.3.0->tensorflow==2.3.0) (4.11.4)\n",
      "Requirement already satisfied: charset-normalizer<3,>=2 in /home/jupyterlab/conda/envs/python/lib/python3.7/site-packages (from requests<3,>=2.21.0->tensorboard<3,>=2.3.0->tensorflow==2.3.0) (2.1.1)\n",
      "Requirement already satisfied: certifi>=2017.4.17 in /home/jupyterlab/conda/envs/python/lib/python3.7/site-packages (from requests<3,>=2.21.0->tensorboard<3,>=2.3.0->tensorflow==2.3.0) (2022.9.24)\n",
      "Requirement already satisfied: urllib3<1.27,>=1.21.1 in /home/jupyterlab/conda/envs/python/lib/python3.7/site-packages (from requests<3,>=2.21.0->tensorboard<3,>=2.3.0->tensorflow==2.3.0) (1.26.13)\n",
      "Requirement already satisfied: idna<4,>=2.5 in /home/jupyterlab/conda/envs/python/lib/python3.7/site-packages (from requests<3,>=2.21.0->tensorboard<3,>=2.3.0->tensorflow==2.3.0) (3.4)\n",
      "Requirement already satisfied: MarkupSafe>=2.1.1 in /home/jupyterlab/conda/envs/python/lib/python3.7/site-packages (from werkzeug>=1.0.1->tensorboard<3,>=2.3.0->tensorflow==2.3.0) (2.1.1)\n",
      "Requirement already satisfied: typing-extensions>=3.6.4 in /home/jupyterlab/conda/envs/python/lib/python3.7/site-packages (from importlib-metadata>=4.4->markdown>=2.6.8->tensorboard<3,>=2.3.0->tensorflow==2.3.0) (4.4.0)\n",
      "Requirement already satisfied: zipp>=0.5 in /home/jupyterlab/conda/envs/python/lib/python3.7/site-packages (from importlib-metadata>=4.4->markdown>=2.6.8->tensorboard<3,>=2.3.0->tensorflow==2.3.0) (3.11.0)\n",
      "Requirement already satisfied: pyasn1<0.5.0,>=0.4.6 in /home/jupyterlab/conda/envs/python/lib/python3.7/site-packages (from pyasn1-modules>=0.2.1->google-auth<3,>=1.6.3->tensorboard<3,>=2.3.0->tensorflow==2.3.0) (0.4.8)\n",
      "Collecting oauthlib>=3.0.0\n",
      "  Downloading oauthlib-3.2.2-py3-none-any.whl (151 kB)\n",
      "\u001b[2K     \u001b[90m━━━━━━━━━━━━━━━━━━━━━━━━━━━━━━━━━━━━━━\u001b[0m \u001b[32m151.7/151.7 kB\u001b[0m \u001b[31m19.8 MB/s\u001b[0m eta \u001b[36m0:00:00\u001b[0m\n",
      "\u001b[?25hInstalling collected packages: tensorflow-estimator, tensorboard-plugin-wit, tensorboard-data-server, rsa, protobuf, oauthlib, numpy, gast, cachetools, astunparse, scipy, requests-oauthlib, opt-einsum, h5py, google-auth, google-auth-oauthlib, tensorboard, tensorflow\n",
      "  Attempting uninstall: tensorflow-estimator\n",
      "    Found existing installation: tensorflow-estimator 1.14.0\n",
      "    Uninstalling tensorflow-estimator-1.14.0:\n",
      "      Successfully uninstalled tensorflow-estimator-1.14.0\n",
      "  Attempting uninstall: protobuf\n",
      "    Found existing installation: protobuf 4.21.8\n",
      "    Uninstalling protobuf-4.21.8:\n",
      "      Successfully uninstalled protobuf-4.21.8\n",
      "  Attempting uninstall: numpy\n",
      "    Found existing installation: numpy 1.21.4\n",
      "    Uninstalling numpy-1.21.4:\n",
      "      Successfully uninstalled numpy-1.21.4\n",
      "  Attempting uninstall: gast\n",
      "    Found existing installation: gast 0.5.3\n",
      "    Uninstalling gast-0.5.3:\n",
      "      Successfully uninstalled gast-0.5.3\n",
      "  Attempting uninstall: scipy\n",
      "    Found existing installation: scipy 1.7.3\n",
      "    Uninstalling scipy-1.7.3:\n",
      "      Successfully uninstalled scipy-1.7.3\n",
      "  Attempting uninstall: h5py\n",
      "    Found existing installation: h5py 2.8.0\n",
      "    Uninstalling h5py-2.8.0:\n",
      "      Successfully uninstalled h5py-2.8.0\n",
      "  Attempting uninstall: tensorboard\n",
      "    Found existing installation: tensorboard 1.14.0\n",
      "    Uninstalling tensorboard-1.14.0:\n",
      "      Successfully uninstalled tensorboard-1.14.0\n",
      "  Attempting uninstall: tensorflow\n",
      "    Found existing installation: tensorflow 1.14.0\n",
      "    Uninstalling tensorflow-1.14.0:\n",
      "      Successfully uninstalled tensorflow-1.14.0\n",
      "Successfully installed astunparse-1.6.3 cachetools-5.3.0 gast-0.3.3 google-auth-2.16.0 google-auth-oauthlib-0.4.6 h5py-2.10.0 numpy-1.18.5 oauthlib-3.2.2 opt-einsum-3.3.0 protobuf-3.20.3 requests-oauthlib-1.3.1 rsa-4.9 scipy-1.4.1 tensorboard-2.11.2 tensorboard-data-server-0.6.1 tensorboard-plugin-wit-1.8.1 tensorflow-2.3.0 tensorflow-estimator-2.3.0\n",
      "Collecting numpy==1.21.4\n",
      "  Using cached numpy-1.21.4-cp37-cp37m-manylinux_2_12_x86_64.manylinux2010_x86_64.whl (15.7 MB)\n",
      "Installing collected packages: numpy\n",
      "  Attempting uninstall: numpy\n",
      "    Found existing installation: numpy 1.18.5\n",
      "    Uninstalling numpy-1.18.5:\n",
      "      Successfully uninstalled numpy-1.18.5\n",
      "\u001b[31mERROR: pip's dependency resolver does not currently take into account all the packages that are installed. This behaviour is the source of the following dependency conflicts.\n",
      "tensorflow 2.3.0 requires numpy<1.19.0,>=1.16.0, but you have numpy 1.21.4 which is incompatible.\u001b[0m\u001b[31m\n",
      "\u001b[0mSuccessfully installed numpy-1.21.4\n"
     ]
    }
   ],
   "source": [
    "!pip install tensorflow==2.3.0\n",
    "!pip install numpy==1.21.4\n"
   ]
  },
  {
   "cell_type": "code",
   "execution_count": 1,
   "metadata": {},
   "outputs": [
    {
     "name": "stderr",
     "output_type": "stream",
     "text": [
      "2023-02-07 15:43:33.829478: W tensorflow/stream_executor/platform/default/dso_loader.cc:59] Could not load dynamic library 'libcudart.so.10.1'; dlerror: libcudart.so.10.1: cannot open shared object file: No such file or directory\n",
      "2023-02-07 15:43:33.829548: I tensorflow/stream_executor/cuda/cudart_stub.cc:29] Ignore above cudart dlerror if you do not have a GPU set up on your machine.\n"
     ]
    }
   ],
   "source": [
    "import time\n",
    "import numpy as np\n",
    "import tensorflow as tf\n",
    "if not tf.__version__ == '2.3.0':\n",
    "    print(tf.__version__)\n",
    "    raise ValueError('please upgrade to TensorFlow 2.2.0-rc0, or restart your Kernel (Kernel->Restart & Clear Output)')\n",
    "    "
   ]
  },
  {
   "cell_type": "markdown",
   "metadata": {},
   "source": [
    "IMPORTANT! => Please restart the kernel by clicking on \"Kernel\"->\"Restart and Clear Outout\" and wait until all output disapears. Then your changes are beeing picked up\n"
   ]
  },
  {
   "cell_type": "code",
   "execution_count": 7,
   "metadata": {},
   "outputs": [
    {
     "name": "stdout",
     "output_type": "stream",
     "text": [
      "mkdir: cannot create directory ‘data’: File exists\n",
      "mkdir: cannot create directory ‘data/ptb’: File exists\n"
     ]
    }
   ],
   "source": [
    "!mkdir data\n",
    "!mkdir data/ptb\n",
    "!wget -q -O data/ptb/reader.py https://cf-courses-data.s3.us.cloud-object-storage.appdomain.cloud/IBMDeveloperSkillsNetwork-DL0120EN-SkillsNetwork/labs/Week3/data/ptb/reader.py\n",
    "!cp data/ptb/reader.py . \n",
    "\n"
   ]
  },
  {
   "cell_type": "code",
   "execution_count": 2,
   "metadata": {},
   "outputs": [
    {
     "data": {
      "text/plain": [
       "['__name__',\n",
       " '__doc__',\n",
       " '__package__',\n",
       " '__loader__',\n",
       " '__spec__',\n",
       " '__file__',\n",
       " '__cached__',\n",
       " '__builtins__',\n",
       " 'absolute_import',\n",
       " 'division',\n",
       " 'print_function',\n",
       " 'collections',\n",
       " 'os',\n",
       " 'np',\n",
       " 'tf',\n",
       " '_read_words',\n",
       " '_build_vocab',\n",
       " '_file_to_word_ids',\n",
       " 'ptb_raw_data',\n",
       " 'ptb_iterator']"
      ]
     },
     "execution_count": 2,
     "metadata": {},
     "output_type": "execute_result"
    }
   ],
   "source": [
    "import reader\n",
    "reader.__dir__()"
   ]
  },
  {
   "cell_type": "markdown",
   "metadata": {},
   "source": [
    "<a id=\"building_lstm_model\"></a>\n",
    "<h2>Building the LSTM model for Language Modeling</h2>\n",
    "Now that we know exactly what we are doing, we can start building our model using TensorFlow. The very first thing we need to do is download and extract the <code>simple-examples</code> dataset, which can be done by executing the code cell below.\n"
   ]
  },
  {
   "cell_type": "code",
   "execution_count": 4,
   "metadata": {},
   "outputs": [
    {
     "name": "stdout",
     "output_type": "stream",
     "text": [
      "--2023-02-07 15:21:12--  http://www.fit.vutbr.cz/~imikolov/rnnlm/simple-examples.tgz\n",
      "Resolving www.fit.vutbr.cz (www.fit.vutbr.cz)... 147.229.9.23, 2001:67c:1220:809::93e5:917\n",
      "Connecting to www.fit.vutbr.cz (www.fit.vutbr.cz)|147.229.9.23|:80... connected.\n",
      "HTTP request sent, awaiting response... 200 OK\n",
      "Length: 34869662 (33M) [application/x-gtar]\n",
      "Saving to: ‘simple-examples.tgz.1’\n",
      "\n",
      "simple-examples.tgz 100%[===================>]  33.25M  9.64MB/s    in 3.8s    \n",
      "\n",
      "2023-02-07 15:21:17 (8.69 MB/s) - ‘simple-examples.tgz.1’ saved [34869662/34869662]\n",
      "\n"
     ]
    }
   ],
   "source": [
    "!wget http://www.fit.vutbr.cz/~imikolov/rnnlm/simple-examples.tgz \n",
    "!tar xzf simple-examples.tgz -C data/\n"
   ]
  },
  {
   "cell_type": "markdown",
   "metadata": {},
   "source": [
    "Additionally, for the sake of making it easy to play around with the model's hyperparameters, we can declare them beforehand. Feel free to change these -- you will see a difference in performance each time you change those!  \n"
   ]
  },
  {
   "cell_type": "code",
   "execution_count": 3,
   "metadata": {},
   "outputs": [],
   "source": [
    "#Initial weight scale\n",
    "init_scale = 0.1\n",
    "#Initial learning rate\n",
    "learning_rate = 1.0\n",
    "#Maximum permissible norm for the gradient (For gradient clipping -- another measure against Exploding Gradients)\n",
    "max_grad_norm = 5\n",
    "#The number of layers in our model\n",
    "num_layers = 2\n",
    "#The total number of recurrence steps, also known as the number of layers when our RNN is \"unfolded\"\n",
    "num_steps = 20\n",
    "#The number of processing units (neurons) in the hidden layers\n",
    "hidden_size_l1 = 256\n",
    "hidden_size_l2 = 128\n",
    "#The maximum number of epochs trained with the initial learning rate\n",
    "max_epoch_decay_lr = 4\n",
    "#The total number of epochs in training\n",
    "max_epoch = 15\n",
    "#The probability for keeping data in the Dropout Layer (This is an optimization, but is outside our scope for this notebook!)\n",
    "#At 1, we ignore the Dropout Layer wrapping.\n",
    "keep_prob = 1\n",
    "#The decay for the learning rate\n",
    "decay = 0.5\n",
    "#The size for each batch of data\n",
    "batch_size = 30\n",
    "#The size of our vocabulary\n",
    "vocab_size = 10000\n",
    "embeding_vector_size= 200\n",
    "#Training flag to separate training from testing\n",
    "is_training = 1\n",
    "#Data directory for our dataset\n",
    "data_dir = \"data/simple-examples/data/\"\n"
   ]
  },
  {
   "cell_type": "markdown",
   "metadata": {},
   "source": [
    "Some clarifications for LSTM architecture based on the arguments:\n",
    "\n",
    "Network structure:\n",
    "<ul>\n",
    "    <li>In this network, the number of LSTM cells are 2. To give the model more expressive power, we can add multiple layers of LSTMs to process the data. The output of the first layer will become the input of the second and so on.\n",
    "    </li>\n",
    "    <li>The recurrence steps is 20, that is, when our RNN is \"Unfolded\", the recurrence step is 20.</li>   \n",
    "    <li>the structure is like:\n",
    "        <ul>\n",
    "            <li>200 input units -> [200x200] Weight -> 200 Hidden units (first layer) -> [200x200] Weight matrix  -> 200 Hidden units (second layer) ->  [200] weight Matrix -> 200 unit output</li>\n",
    "        </ul>\n",
    "    </li>\n",
    "</ul>\n",
    "<br>\n",
    "\n",
    "Input layer: \n",
    "<ul>\n",
    "    <li>The network has 200 input units.</li>\n",
    "    <li>Suppose each word is represented by an embedding vector of dimensionality e=200. The input layer of each cell will have 200 linear units. These e=200 linear units are connected to each of the h=200 LSTM units in the hidden layer (assuming there is only one hidden layer, though our case has 2 layers).\n",
    "    </li>\n",
    "    <li>The input shape is [batch_size, num_steps], that is [30x20]. It will turn into [30x20x200] after embedding, and then 20x[30x200]\n",
    "    </li>\n",
    "</ul>\n",
    "<br>\n",
    "\n",
    "Hidden layer:\n",
    "<ul>\n",
    "    <li>Each LSTM has 200 hidden units which is equivalent to the dimensionality of the embedding words and output.</li>\n",
    "</ul>\n",
    "<br>\n"
   ]
  },
  {
   "cell_type": "markdown",
   "metadata": {},
   "source": [
    "There is a lot to be done and a ton of information to process at the same time, so go over this code slowly. It may seem complex at first, but if you try to apply what you just learned about language modelling to the code you see, you should be able to understand it.\n",
    "\n",
    "This code is adapted from the <a href=\"https://github.com/tensorflow/models\">PTBModel</a> example bundled with the TensorFlow source code.\n",
    "\n",
    "\n",
    "<h3>Training data</h3>\n",
    "The story starts from data:\n",
    "<ul>\n",
    "    <li>Train data is a list of words, of size 929589, represented by numbers, e.g. [9971, 9972, 9974, 9975,...]</li>\n",
    "    <li>We read data as mini-batch of size b=30. Assume the size of each sentence is 20 words (num_steps = 20). Then it will take $$floor(\\frac{N}{b \\times h})+1=1548$$ iterations for the learner to go through all sentences once. Where N is the size of the list of words, b is batch size, and h is size of each sentence. So, the number of iterators is 1548\n",
    "    </li>\n",
    "    <li>Each batch data is read from train dataset of size 600, and shape of [30x20]</li>\n",
    "</ul>\n"
   ]
  },
  {
   "cell_type": "code",
   "execution_count": 4,
   "metadata": {},
   "outputs": [],
   "source": [
    "# Reads the data and separates it into training data, validation data and testing data\n",
    "raw_data = reader.ptb_raw_data(data_dir)\n",
    "train_data, valid_data, test_data, vocab, word_to_id = raw_data\n"
   ]
  },
  {
   "cell_type": "code",
   "execution_count": 5,
   "metadata": {},
   "outputs": [
    {
     "data": {
      "text/plain": [
       "929589"
      ]
     },
     "execution_count": 5,
     "metadata": {},
     "output_type": "execute_result"
    }
   ],
   "source": [
    "len(train_data)\n"
   ]
  },
  {
   "cell_type": "code",
   "execution_count": 10,
   "metadata": {},
   "outputs": [
    {
     "name": "stdout",
     "output_type": "stream",
     "text": [
      "['aer', 'banknote', 'berlitz', 'calloway', 'centrust', 'cluett', 'fromstein', 'gitano', 'guterman', 'hydro-quebec', 'ipo', 'kia', 'memotec', 'mlx', 'nahb', 'punts', 'rake', 'regatta', 'rubens', 'sim', 'snack-food', 'ssangyong', 'swapo', 'wachter', '<eos>', 'pierre', '<unk>', 'N', 'years', 'old', 'will', 'join', 'the', 'board', 'as', 'a', 'nonexecutive', 'director', 'nov.', 'N', '<eos>', 'mr.', '<unk>', 'is', 'chairman', 'of', '<unk>', 'n.v.', 'the', 'dutch', 'publishing', 'group', '<eos>', 'rudolph', '<unk>', 'N', 'years', 'old', 'and', 'former', 'chairman', 'of', 'consolidated', 'gold', 'fields', 'plc', 'was', 'named', 'a', 'nonexecutive', 'director', 'of', 'this', 'british', 'industrial', 'conglomerate', '<eos>', 'a', 'form', 'of', 'asbestos', 'once', 'used', 'to', 'make', 'kent', 'cigarette', 'filters', 'has', 'caused', 'a', 'high', 'percentage', 'of', 'cancer', 'deaths', 'among', 'a', 'group', 'of']\n"
     ]
    }
   ],
   "source": [
    "def id_to_word(id_list):\n",
    "    line = []\n",
    "    for w in id_list:\n",
    "        for word, wid in word_to_id.items():\n",
    "            if wid == w:\n",
    "                line.append(word)\n",
    "    return line            \n",
    "                \n",
    "\n",
    "print(id_to_word(train_data[0:100]))"
   ]
  },
  {
   "cell_type": "markdown",
   "metadata": {},
   "source": [
    "Lets just read one mini-batch now and feed our network:\n"
   ]
  },
  {
   "cell_type": "code",
   "execution_count": 11,
   "metadata": {},
   "outputs": [],
   "source": [
    "itera = reader.ptb_iterator(train_data, batch_size, num_steps)\n",
    "first_touple = itera.__next__()\n",
    "_input_data = first_touple[0]\n",
    "_targets = first_touple[1]\n"
   ]
  },
  {
   "cell_type": "code",
   "execution_count": 12,
   "metadata": {},
   "outputs": [
    {
     "data": {
      "text/plain": [
       "(30, 20)"
      ]
     },
     "execution_count": 12,
     "metadata": {},
     "output_type": "execute_result"
    }
   ],
   "source": [
    "_input_data.shape\n"
   ]
  },
  {
   "cell_type": "code",
   "execution_count": 13,
   "metadata": {},
   "outputs": [
    {
     "data": {
      "text/plain": [
       "(30, 20)"
      ]
     },
     "execution_count": 13,
     "metadata": {},
     "output_type": "execute_result"
    }
   ],
   "source": [
    "_targets.shape\n"
   ]
  },
  {
   "cell_type": "markdown",
   "metadata": {},
   "source": [
    "Lets look at 3 sentences of our input x:\n"
   ]
  },
  {
   "cell_type": "code",
   "execution_count": 25,
   "metadata": {},
   "outputs": [
    {
     "data": {
      "text/plain": [
       "array([9970, 2654,    0], dtype=int32)"
      ]
     },
     "execution_count": 25,
     "metadata": {},
     "output_type": "execute_result"
    }
   ],
   "source": [
    "_input_data[0:3,0]\n"
   ]
  },
  {
   "cell_type": "code",
   "execution_count": 28,
   "metadata": {},
   "outputs": [
    {
     "name": "stdout",
     "output_type": "stream",
     "text": [
      "['aer', 'banknote', 'berlitz', 'calloway', 'centrust', 'cluett', 'fromstein', 'gitano', 'guterman', 'hydro-quebec', 'ipo', 'kia', 'memotec', 'mlx', 'nahb', 'punts', 'rake', 'regatta', 'rubens', 'sim']\n"
     ]
    }
   ],
   "source": [
    "print(id_to_word(_input_data[0,:]))\n"
   ]
  },
  {
   "cell_type": "markdown",
   "metadata": {},
   "source": [
    "<h3>Embeddings</h3>\n",
    "We have to convert the words in our dataset to vectors of numbers. The traditional approach is to use one-hot encoding method that is usually used for converting categorical values to numerical values. However, One-hot encoded vectors are high-dimensional, sparse and in a big dataset, computationally inefficient. So, we use word2vec approach. It is, in fact, a layer in our LSTM network, where the word IDs will be represented as a dense representation before feeding to the LSTM. \n",
    "\n",
    "The embedded vectors also get updated during the training process of the deep neural network.\n",
    "We create the embeddings for our input data. <b>embedding_vocab</b> is matrix of [10000x200] for all 10000 unique words.\n"
   ]
  },
  {
   "cell_type": "markdown",
   "metadata": {},
   "source": [
    "<b>embedding_lookup()</b> finds the embedded values for our batch of 30x20 words. It  goes to each row of <code>input_data</code>, and for each word in the row/sentence, finds the correspond vector in <code>embedding_dic<code>. <br>\n",
    "It creates a [30x20x200] tensor, so, the first element of <b>inputs</b> (the first sentence), is a matrix of 20x200, which each row of it, is vector representing a word in the sentence.\n"
   ]
  },
  {
   "cell_type": "code",
   "execution_count": 29,
   "metadata": {},
   "outputs": [],
   "source": [
    "embedding_layer = tf.keras.layers.Embedding(vocab_size, embeding_vector_size,batch_input_shape=(batch_size, num_steps),trainable=True,name=\"embedding_vocab\")  "
   ]
  },
  {
   "cell_type": "code",
   "execution_count": 30,
   "metadata": {},
   "outputs": [
    {
     "name": "stderr",
     "output_type": "stream",
     "text": [
      "2023-02-07 15:53:45.548014: W tensorflow/stream_executor/platform/default/dso_loader.cc:59] Could not load dynamic library 'libcuda.so.1'; dlerror: libcuda.so.1: cannot open shared object file: No such file or directory\n",
      "2023-02-07 15:53:45.548084: W tensorflow/stream_executor/cuda/cuda_driver.cc:312] failed call to cuInit: UNKNOWN ERROR (303)\n",
      "2023-02-07 15:53:45.548146: I tensorflow/stream_executor/cuda/cuda_diagnostics.cc:156] kernel driver does not appear to be running on this host (jupyterlab-santiago513): /proc/driver/nvidia/version does not exist\n",
      "2023-02-07 15:53:45.548654: I tensorflow/core/platform/cpu_feature_guard.cc:142] This TensorFlow binary is optimized with oneAPI Deep Neural Network Library (oneDNN)to use the following CPU instructions in performance-critical operations:  AVX2 AVX512F FMA\n",
      "To enable them in other operations, rebuild TensorFlow with the appropriate compiler flags.\n",
      "2023-02-07 15:53:45.559239: I tensorflow/core/platform/profile_utils/cpu_utils.cc:104] CPU Frequency: 2593900000 Hz\n",
      "2023-02-07 15:53:45.560064: I tensorflow/compiler/xla/service/service.cc:168] XLA service 0x55a101df2090 initialized for platform Host (this does not guarantee that XLA will be used). Devices:\n",
      "2023-02-07 15:53:45.560103: I tensorflow/compiler/xla/service/service.cc:176]   StreamExecutor device (0): Host, Default Version\n"
     ]
    },
    {
     "data": {
      "text/plain": [
       "<tf.Tensor: shape=(30, 20, 200), dtype=float32, numpy=\n",
       "array([[[-0.01634898, -0.02674307, -0.04553641, ..., -0.01891155,\n",
       "         -0.02388959, -0.01900735],\n",
       "        [ 0.01559868, -0.02958508, -0.00381124, ...,  0.0303237 ,\n",
       "         -0.03080691, -0.00672084],\n",
       "        [-0.03831036, -0.01212485, -0.03416093, ...,  0.04419574,\n",
       "         -0.00316237,  0.00918236],\n",
       "        ...,\n",
       "        [ 0.04986744,  0.04890031, -0.04262308, ...,  0.03499533,\n",
       "          0.01060562, -0.03372898],\n",
       "        [ 0.02920414, -0.03713939, -0.02285914, ..., -0.04786474,\n",
       "          0.03379599,  0.00496102],\n",
       "        [ 0.01946092, -0.02575896,  0.03302011, ..., -0.02382823,\n",
       "          0.00259248,  0.01474762]],\n",
       "\n",
       "       [[-0.03323038, -0.02367374,  0.04972415, ...,  0.01494556,\n",
       "          0.03565078, -0.01507252],\n",
       "        [-0.02454783, -0.03483557,  0.04528115, ..., -0.045004  ,\n",
       "          0.006909  , -0.02010535],\n",
       "        [ 0.0467041 ,  0.02360828, -0.01620626, ...,  0.00150267,\n",
       "         -0.03770524, -0.02108791],\n",
       "        ...,\n",
       "        [-0.02262085,  0.00731263, -0.03878616, ..., -0.0132665 ,\n",
       "          0.04507388, -0.03081418],\n",
       "        [ 0.03489845,  0.04688137, -0.02880381, ...,  0.03622342,\n",
       "         -0.00387343,  0.03237735],\n",
       "        [ 0.0098042 ,  0.03769933, -0.0277724 , ..., -0.04146137,\n",
       "          0.04744296, -0.04981212]],\n",
       "\n",
       "       [[-0.04540138,  0.03119203,  0.02804353, ..., -0.00459569,\n",
       "          0.01503569, -0.00062226],\n",
       "        [ 0.01449856,  0.01155017,  0.00741997, ..., -0.01116275,\n",
       "         -0.02896428,  0.00499211],\n",
       "        [ 0.03816335, -0.04843841,  0.01556707, ...,  0.0043293 ,\n",
       "         -0.01103263,  0.02662442],\n",
       "        ...,\n",
       "        [-0.04433904,  0.00266761, -0.02513435, ..., -0.00834947,\n",
       "          0.03973709,  0.01989824],\n",
       "        [-0.00277691, -0.0037776 , -0.0387982 , ..., -0.03122717,\n",
       "         -0.0325153 ,  0.00544437],\n",
       "        [ 0.02644042,  0.03888981, -0.03743132, ..., -0.03273028,\n",
       "          0.0113271 , -0.02245543]],\n",
       "\n",
       "       ...,\n",
       "\n",
       "       [[-0.04408132, -0.04490613, -0.01596055, ...,  0.00810814,\n",
       "          0.02639986,  0.02913444],\n",
       "        [-0.01653809,  0.0241537 , -0.00303287, ...,  0.02214302,\n",
       "         -0.03955739,  0.04769553],\n",
       "        [-0.03376776, -0.00353279,  0.02525416, ..., -0.00644807,\n",
       "          0.02921789,  0.01440722],\n",
       "        ...,\n",
       "        [-0.03410246, -0.04727204, -0.03207848, ...,  0.03216002,\n",
       "         -0.0238822 , -0.01849426],\n",
       "        [-0.04757192,  0.01434973,  0.02265679, ..., -0.02077091,\n",
       "          0.01245089,  0.04666347],\n",
       "        [-0.03909944, -0.02946181, -0.02779876, ..., -0.03705   ,\n",
       "          0.04028869,  0.03950759]],\n",
       "\n",
       "       [[-0.03350575, -0.00366182,  0.01966346, ...,  0.0116355 ,\n",
       "         -0.01187551,  0.0048514 ],\n",
       "        [-0.00473364, -0.03714596, -0.04815565, ..., -0.01223068,\n",
       "          0.04920617, -0.01030578],\n",
       "        [ 0.03816335, -0.04843841,  0.01556707, ...,  0.0043293 ,\n",
       "         -0.01103263,  0.02662442],\n",
       "        ...,\n",
       "        [-0.03988172, -0.00567107, -0.03567574, ..., -0.03978741,\n",
       "         -0.04779086, -0.01928794],\n",
       "        [-0.02454783, -0.03483557,  0.04528115, ..., -0.045004  ,\n",
       "          0.006909  , -0.02010535],\n",
       "        [-0.03949894,  0.04877359, -0.01447205, ...,  0.00710632,\n",
       "         -0.0226644 , -0.00722303]],\n",
       "\n",
       "       [[ 0.01039212,  0.03452357,  0.00821083, ...,  0.01172636,\n",
       "          0.0352493 , -0.04272607],\n",
       "        [ 0.04901261,  0.02038243, -0.04238365, ...,  0.00143431,\n",
       "         -0.01911752, -0.02871684],\n",
       "        [ 0.02019301, -0.00578328,  0.03950495, ..., -0.01629468,\n",
       "          0.02780559,  0.01938255],\n",
       "        ...,\n",
       "        [ 0.01849459, -0.03284128,  0.03514973, ..., -0.00181177,\n",
       "          0.04782757, -0.00620013],\n",
       "        [ 0.0111108 ,  0.00068519, -0.01783348, ...,  0.02070271,\n",
       "         -0.0430434 , -0.02410867],\n",
       "        [-0.00835911,  0.04893174, -0.04646742, ...,  0.0003436 ,\n",
       "          0.01387167, -0.02166494]]], dtype=float32)>"
      ]
     },
     "execution_count": 30,
     "metadata": {},
     "output_type": "execute_result"
    }
   ],
   "source": [
    "# Define where to get the data for our embeddings from\n",
    "inputs = embedding_layer(_input_data)\n",
    "inputs\n"
   ]
  },
  {
   "cell_type": "markdown",
   "metadata": {},
   "source": [
    "<h3>Constructing Recurrent Neural Networks</h3>\n"
   ]
  },
  {
   "cell_type": "markdown",
   "metadata": {},
   "source": [
    "In this step, we create the stacked LSTM using <b>tf.keras.layers.StackedRNNCells</b>, which is a 2 layer LSTM network:\n"
   ]
  },
  {
   "cell_type": "code",
   "execution_count": 31,
   "metadata": {},
   "outputs": [],
   "source": [
    "lstm_cell_l1 = tf.keras.layers.LSTMCell(hidden_size_l1)\n",
    "lstm_cell_l2 = tf.keras.layers.LSTMCell(hidden_size_l2)\n"
   ]
  },
  {
   "cell_type": "code",
   "execution_count": 32,
   "metadata": {},
   "outputs": [],
   "source": [
    "stacked_lstm = tf.keras.layers.StackedRNNCells([lstm_cell_l1, lstm_cell_l2])"
   ]
  },
  {
   "cell_type": "markdown",
   "metadata": {},
   "source": [
    "<b>tf.keras.layers.RNN</b> creates a recurrent neural network using <b>stacked_lstm</b>. \n",
    "\n",
    "The input should be a Tensor of shape: [batch_size, max_time, embedding_vector_size], in our case it would be (30, 20, 200)\n"
   ]
  },
  {
   "cell_type": "code",
   "execution_count": 33,
   "metadata": {},
   "outputs": [],
   "source": [
    "layer  =  tf.keras.layers.RNN(stacked_lstm,[batch_size, num_steps],return_state=False,stateful=True,trainable=True)"
   ]
  },
  {
   "cell_type": "markdown",
   "metadata": {},
   "source": [
    "Also, we initialize the states of the nework:\n",
    "\n",
    "<h4>_initial_state</h4>\n",
    "\n",
    "For each LSTM, there are 2 state matrices, c\\_state and m\\_state.  c_state and m_state represent \"Memory State\" and \"Cell State\". Each hidden layer, has a vector of size 30, which keeps the states. so, for 200 hidden units in each LSTM, we have a matrix of size [30x200]\n"
   ]
  },
  {
   "cell_type": "code",
   "execution_count": 34,
   "metadata": {},
   "outputs": [],
   "source": [
    "init_state = tf.Variable(tf.zeros([batch_size,embeding_vector_size]),trainable=False)"
   ]
  },
  {
   "cell_type": "code",
   "execution_count": 35,
   "metadata": {},
   "outputs": [],
   "source": [
    "layer.inital_state = init_state"
   ]
  },
  {
   "cell_type": "code",
   "execution_count": 36,
   "metadata": {},
   "outputs": [
    {
     "data": {
      "text/plain": [
       "<tf.Variable 'Variable:0' shape=(30, 200) dtype=float32, numpy=\n",
       "array([[0., 0., 0., ..., 0., 0., 0.],\n",
       "       [0., 0., 0., ..., 0., 0., 0.],\n",
       "       [0., 0., 0., ..., 0., 0., 0.],\n",
       "       ...,\n",
       "       [0., 0., 0., ..., 0., 0., 0.],\n",
       "       [0., 0., 0., ..., 0., 0., 0.],\n",
       "       [0., 0., 0., ..., 0., 0., 0.]], dtype=float32)>"
      ]
     },
     "execution_count": 36,
     "metadata": {},
     "output_type": "execute_result"
    }
   ],
   "source": [
    "layer.inital_state"
   ]
  },
  {
   "cell_type": "markdown",
   "metadata": {},
   "source": [
    "so, lets look at the outputs. The output of the stackedLSTM comes from 128 hidden_layer, and in each time step(=20), one of them get activated. we use the linear activation to map the 128 hidden layer to a [30X20 matrix]\n"
   ]
  },
  {
   "cell_type": "code",
   "execution_count": 37,
   "metadata": {},
   "outputs": [],
   "source": [
    "outputs = layer(inputs)"
   ]
  },
  {
   "cell_type": "code",
   "execution_count": 38,
   "metadata": {},
   "outputs": [
    {
     "data": {
      "text/plain": [
       "<tf.Tensor: shape=(30, 20, 128), dtype=float32, numpy=\n",
       "array([[[ 2.6761352e-05,  1.7049171e-03,  1.2228773e-03, ...,\n",
       "          1.0563140e-03, -1.0111679e-03,  1.7063871e-04],\n",
       "        [ 3.5645079e-04,  2.7554561e-03,  1.4789796e-03, ...,\n",
       "          2.8594960e-03, -8.0901093e-04,  2.8073962e-05],\n",
       "        [ 1.6204341e-03,  4.6697212e-03,  1.6072573e-03, ...,\n",
       "          3.2654488e-03,  1.1235150e-04, -1.5751403e-04],\n",
       "        ...,\n",
       "        [-3.3461940e-03, -9.5870404e-05, -6.8277246e-03, ...,\n",
       "         -4.0826602e-03, -2.8449716e-03,  8.8762806e-04],\n",
       "        [-2.6737035e-03, -1.0444073e-03, -6.4784945e-03, ...,\n",
       "         -5.6625381e-03, -3.4341607e-03,  1.3366266e-03],\n",
       "        [-2.8548818e-03, -2.2584903e-03, -5.4745274e-03, ...,\n",
       "         -5.4371799e-03, -4.0127980e-03,  1.0613992e-03]],\n",
       "\n",
       "       [[-1.0532838e-04, -3.8313383e-04, -1.3771838e-03, ...,\n",
       "          5.0601788e-04,  5.3246075e-04, -8.7198096e-06],\n",
       "        [ 7.0305855e-04, -2.4595202e-03, -2.2001497e-03, ...,\n",
       "          4.1148218e-04,  1.9917232e-03,  6.9865334e-04],\n",
       "        [ 1.7489131e-03, -4.8593683e-03, -3.3564260e-03, ...,\n",
       "          1.1002583e-03,  4.1167270e-03,  4.3819673e-04],\n",
       "        ...,\n",
       "        [ 7.8522187e-04,  2.3613521e-03, -1.6109261e-03, ...,\n",
       "          2.1056968e-03,  4.2705145e-03,  5.6108087e-03],\n",
       "        [ 6.6604186e-04,  2.8066791e-03, -9.3492673e-04, ...,\n",
       "         -3.2836117e-04,  5.0751935e-03,  4.5872726e-03],\n",
       "        [-9.0455223e-04,  2.4713625e-03, -4.8711395e-04, ...,\n",
       "          2.4842871e-06,  5.6164130e-03,  2.9369702e-03]],\n",
       "\n",
       "       [[ 1.6950762e-03,  1.4687578e-04,  8.4475795e-04, ...,\n",
       "          6.1865378e-04, -2.7038045e-03,  9.6395315e-04],\n",
       "        [ 1.9194144e-03, -1.5566507e-04,  1.1298835e-03, ...,\n",
       "         -1.9188553e-04, -2.7027507e-03, -1.2033956e-04],\n",
       "        [ 2.1415239e-03, -1.4674882e-03,  1.3901565e-03, ...,\n",
       "         -1.8121351e-03, -1.6701621e-03, -1.5689648e-04],\n",
       "        ...,\n",
       "        [-9.4047049e-03, -7.6124485e-04, -3.5743641e-03, ...,\n",
       "          5.6899232e-03, -1.5247561e-03,  3.2401548e-03],\n",
       "        [-9.5550334e-03, -2.1170947e-04, -3.1181825e-03, ...,\n",
       "          5.3562163e-03, -6.1187288e-04,  3.1428013e-03],\n",
       "        [-1.0035418e-02, -3.6336374e-04, -3.9925729e-03, ...,\n",
       "          3.0976222e-03, -6.7478581e-04,  3.3116760e-03]],\n",
       "\n",
       "       ...,\n",
       "\n",
       "       [[-1.2726943e-03,  3.3151876e-04,  6.1467144e-04, ...,\n",
       "          7.8409229e-04,  7.2591659e-04, -4.9987220e-04],\n",
       "        [-8.4373174e-04, -1.2796776e-03, -7.7340730e-05, ...,\n",
       "          1.3534065e-03,  5.5346679e-04, -1.4383958e-04],\n",
       "        [-9.4493415e-05, -2.6696087e-03, -2.0689430e-04, ...,\n",
       "          7.4156845e-04, -4.6637823e-04,  1.2801956e-04],\n",
       "        ...,\n",
       "        [-6.1239083e-03,  1.2522740e-03, -2.8511342e-03, ...,\n",
       "         -5.5190705e-04, -2.9620300e-03,  2.2813678e-03],\n",
       "        [-6.2344768e-03,  2.6183531e-03, -4.2597726e-03, ...,\n",
       "          7.8192599e-05, -3.6571887e-03,  3.5210152e-03],\n",
       "        [-6.0887691e-03,  2.1142231e-03, -5.6003523e-03, ...,\n",
       "          1.6855034e-03, -2.5681271e-03,  3.8542720e-03]],\n",
       "\n",
       "       [[-4.3507590e-04,  3.6434730e-04, -3.0500587e-04, ...,\n",
       "          1.6299019e-03, -1.0255344e-03, -8.3306149e-05],\n",
       "        [-1.4019469e-03,  2.5493099e-04, -3.9976457e-04, ...,\n",
       "          3.0155149e-03, -7.6702121e-04, -8.2530046e-04],\n",
       "        [-1.7365596e-03, -1.1226683e-03, -7.7811055e-05, ...,\n",
       "          2.7330208e-03,  2.5578288e-04, -6.3620479e-04],\n",
       "        ...,\n",
       "        [-1.0944916e-03,  4.5067123e-03, -1.7488548e-04, ...,\n",
       "         -3.0301409e-03,  6.4293068e-04, -2.8243070e-03],\n",
       "        [-8.9700817e-04,  3.5298662e-03, -1.2601902e-04, ...,\n",
       "         -2.7018683e-03,  1.3978865e-03, -2.5772762e-03],\n",
       "        [-5.2386092e-04,  2.4642665e-03,  1.1214144e-03, ...,\n",
       "         -2.3870664e-03,  2.4140887e-03, -3.5871796e-03]],\n",
       "\n",
       "       [[ 9.9086843e-04, -5.9771352e-04,  2.3208350e-04, ...,\n",
       "          8.2826948e-05,  6.7775429e-04,  9.1236213e-04],\n",
       "        [ 1.9374397e-03, -2.5313566e-04,  1.1566347e-03, ...,\n",
       "          4.9239275e-04,  1.6848322e-04,  3.9079977e-04],\n",
       "        [ 2.6732925e-03,  3.3065543e-04,  8.2611566e-04, ...,\n",
       "          1.1764367e-03, -2.4398832e-04,  1.5951898e-03],\n",
       "        ...,\n",
       "        [-6.2511400e-03,  6.8856739e-03,  1.4098403e-03, ...,\n",
       "          2.7801185e-03, -3.1040118e-03,  5.9622210e-03],\n",
       "        [-7.4206037e-03,  6.1193281e-03,  1.6484162e-03, ...,\n",
       "          2.5092680e-03, -1.3173269e-03,  6.9578704e-03],\n",
       "        [-8.4973685e-03,  4.4328659e-03,  1.5410756e-03, ...,\n",
       "          2.6553269e-03, -1.2934535e-03,  6.9462494e-03]]], dtype=float32)>"
      ]
     },
     "execution_count": 38,
     "metadata": {},
     "output_type": "execute_result"
    }
   ],
   "source": [
    "outputs"
   ]
  },
  {
   "cell_type": "markdown",
   "metadata": {},
   "source": [
    "<h2>Dense layer</h2>\n",
    "We now create densely-connected neural network layer that would reshape the outputs tensor from  [30 x 20 x 128] to [30 x 20 x 10000].\n"
   ]
  },
  {
   "cell_type": "code",
   "execution_count": 39,
   "metadata": {},
   "outputs": [],
   "source": [
    "dense = tf.keras.layers.Dense(vocab_size)"
   ]
  },
  {
   "cell_type": "code",
   "execution_count": 40,
   "metadata": {},
   "outputs": [],
   "source": [
    "logits_outputs  = dense(outputs)"
   ]
  },
  {
   "cell_type": "code",
   "execution_count": 41,
   "metadata": {},
   "outputs": [
    {
     "name": "stdout",
     "output_type": "stream",
     "text": [
      "shape of the output from dense layer:  (30, 20, 10000)\n"
     ]
    }
   ],
   "source": [
    "print(\"shape of the output from dense layer: \", logits_outputs.shape) #(batch_size, sequence_length, vocab_size)"
   ]
  },
  {
   "cell_type": "markdown",
   "metadata": {},
   "source": [
    "<h2>Activation layer</h2>\n",
    "\n",
    "\n",
    "A softmax activation layers is also then applied to derive the probability of the output being in any of the multiclass(10000 in this case) possibilities. \n"
   ]
  },
  {
   "cell_type": "code",
   "execution_count": 42,
   "metadata": {},
   "outputs": [],
   "source": [
    "activation = tf.keras.layers.Activation('softmax')"
   ]
  },
  {
   "cell_type": "code",
   "execution_count": 43,
   "metadata": {},
   "outputs": [],
   "source": [
    "output_words_prob = activation(logits_outputs)"
   ]
  },
  {
   "cell_type": "code",
   "execution_count": 44,
   "metadata": {},
   "outputs": [
    {
     "name": "stdout",
     "output_type": "stream",
     "text": [
      "shape of the output from the activation layer:  (30, 20, 10000)\n"
     ]
    }
   ],
   "source": [
    "print(\"shape of the output from the activation layer: \", output_words_prob.shape) #(batch_size, sequence_length, vocab_size)"
   ]
  },
  {
   "cell_type": "markdown",
   "metadata": {},
   "source": [
    "Lets look at the probability of observing words for t=0 to t=20:\n"
   ]
  },
  {
   "cell_type": "code",
   "execution_count": 45,
   "metadata": {},
   "outputs": [
    {
     "name": "stdout",
     "output_type": "stream",
     "text": [
      "The probability of observing words in t=0 to t=20 tf.Tensor(\n",
      "[[9.99842377e-05 9.99914555e-05 1.00002719e-04 ... 1.00000812e-04\n",
      "  9.99773474e-05 9.99826225e-05]\n",
      " [9.99772237e-05 9.99866024e-05 1.00013189e-04 ... 9.99906042e-05\n",
      "  9.99686090e-05 9.99841141e-05]\n",
      " [9.99875410e-05 9.99857293e-05 9.99962067e-05 ... 9.99847398e-05\n",
      "  9.99713739e-05 1.00000259e-04]\n",
      " ...\n",
      " [1.00074751e-04 9.99907352e-05 1.00034340e-04 ... 1.00068355e-04\n",
      "  1.00119723e-04 9.99731637e-05]\n",
      " [1.00094912e-04 9.99871190e-05 1.00020523e-04 ... 1.00036807e-04\n",
      "  1.00129691e-04 9.99903350e-05]\n",
      " [1.00115714e-04 9.99850454e-05 1.00024139e-04 ... 1.00025158e-04\n",
      "  1.00115067e-04 9.99977274e-05]], shape=(20, 10000), dtype=float32)\n"
     ]
    }
   ],
   "source": [
    "print(\"The probability of observing words in t=0 to t=20\", output_words_prob[0,0:num_steps])"
   ]
  },
  {
   "cell_type": "markdown",
   "metadata": {},
   "source": [
    "<h3>Prediction</h3>\n",
    "What is the word correspond to the probability output? Lets use the maximum probability:\n"
   ]
  },
  {
   "cell_type": "code",
   "execution_count": 46,
   "metadata": {},
   "outputs": [
    {
     "data": {
      "text/plain": [
       "array([5568, 5844, 4408, 7077, 6676, 6676, 6676, 6676, 3910, 6916, 3792,\n",
       "       4474, 2722, 2722, 5093, 2873, 2873, 2873, 9802, 9802])"
      ]
     },
     "execution_count": 46,
     "metadata": {},
     "output_type": "execute_result"
    }
   ],
   "source": [
    "np.argmax(output_words_prob[0,0:num_steps], axis=1)"
   ]
  },
  {
   "cell_type": "markdown",
   "metadata": {},
   "source": [
    "So, what is the ground truth for the first word of first sentence? You can get it from target tensor, if you want to find the embedding vector: \n"
   ]
  },
  {
   "cell_type": "code",
   "execution_count": 47,
   "metadata": {},
   "outputs": [
    {
     "data": {
      "text/plain": [
       "array([9971, 9972, 9974, 9975, 9976, 9980, 9981, 9982, 9983, 9984, 9986,\n",
       "       9987, 9988, 9989, 9991, 9992, 9993, 9994, 9995, 9996], dtype=int32)"
      ]
     },
     "execution_count": 47,
     "metadata": {},
     "output_type": "execute_result"
    }
   ],
   "source": [
    "_targets[0]"
   ]
  },
  {
   "cell_type": "markdown",
   "metadata": {},
   "source": [
    "<h4>Objective function</h4>\n",
    "\n",
    "\n",
    "How similar the predicted words are to the target words?\n",
    "\n",
    "\n",
    "Now we have to define our objective function, to calculate the similarity of predicted values to ground truth, and then, penalize the model with the error. Our objective is to minimize loss function, that is, to minimize the average negative log probability of the target words:\n",
    "\n",
    "$$\\text{loss} = -\\frac{1}{N}\\sum_{i=1}^{N} \\ln p_{\\text{target}_i}$$\n",
    "\n",
    "This function is already implemented and available in TensorFlow through *tf.keras.losses.sparse_categorical_crossentropy*. It calculates the categorical cross-entropy loss for <b>logits</b> and the <b>target</b> sequence.  \n",
    "\n",
    "The arguments of this function are:  \n",
    "<ul>\n",
    "    <li>logits: List of 2D Tensors of shape [batch_size x num_decoder_symbols].</li>  \n",
    "    <li>targets: List of 1D batch-sized int32 Tensors of the same length as logits.</li>   \n",
    "</ul>\n"
   ]
  },
  {
   "cell_type": "code",
   "execution_count": 48,
   "metadata": {},
   "outputs": [],
   "source": [
    "def crossentropy(y_true, y_pred):\n",
    "    return tf.keras.losses.sparse_categorical_crossentropy(y_true, y_pred)"
   ]
  },
  {
   "cell_type": "code",
   "execution_count": 49,
   "metadata": {},
   "outputs": [],
   "source": [
    "loss  = crossentropy(_targets, output_words_prob)"
   ]
  },
  {
   "cell_type": "markdown",
   "metadata": {},
   "source": [
    "Lets look at the first 10 values of loss:\n"
   ]
  },
  {
   "cell_type": "code",
   "execution_count": 50,
   "metadata": {},
   "outputs": [
    {
     "data": {
      "text/plain": [
       "<tf.Tensor: shape=(10,), dtype=float32, numpy=\n",
       "array([9.210263, 9.210599, 9.210691, 9.210229, 9.209635, 9.209406,\n",
       "       9.210368, 9.210524, 9.209941, 9.210222], dtype=float32)>"
      ]
     },
     "execution_count": 50,
     "metadata": {},
     "output_type": "execute_result"
    }
   ],
   "source": [
    "loss[0,:10]"
   ]
  },
  {
   "cell_type": "markdown",
   "metadata": {},
   "source": [
    "Now, we define cost as average of the losses:\n"
   ]
  },
  {
   "cell_type": "code",
   "execution_count": 51,
   "metadata": {},
   "outputs": [
    {
     "data": {
      "text/plain": [
       "<tf.Tensor: shape=(), dtype=float32, numpy=184.20654>"
      ]
     },
     "execution_count": 51,
     "metadata": {},
     "output_type": "execute_result"
    }
   ],
   "source": [
    "cost = tf.reduce_sum(loss / batch_size)\n",
    "cost"
   ]
  },
  {
   "cell_type": "markdown",
   "metadata": {},
   "source": [
    "<h3>Training</h3>\n",
    "\n",
    "To do training for our network, we have to take the following steps:\n",
    "<ol>\n",
    "    <li>Define the optimizer.</li>\n",
    "    <li>Assemble layers to build model.</li>\n",
    "    <li>Calculate the gradients based on the loss function.</li>\n",
    "    <li>Apply the optimizer to the variables/gradients tuple.</li>\n",
    "</ol>\n"
   ]
  },
  {
   "cell_type": "markdown",
   "metadata": {},
   "source": [
    "<h4>1. Define Optimizer</h4>\n",
    "\n"
   ]
  },
  {
   "cell_type": "code",
   "execution_count": 52,
   "metadata": {},
   "outputs": [],
   "source": [
    "# Create a variable for the learning rate\n",
    "lr = tf.Variable(0.0, trainable=False)\n",
    "optimizer = tf.keras.optimizers.SGD(lr=lr, clipnorm=max_grad_norm)"
   ]
  },
  {
   "cell_type": "markdown",
   "metadata": {},
   "source": [
    "<h4>2. Assemble layers to build model.</h4>\n"
   ]
  },
  {
   "cell_type": "code",
   "execution_count": 53,
   "metadata": {},
   "outputs": [
    {
     "name": "stdout",
     "output_type": "stream",
     "text": [
      "Model: \"sequential\"\n",
      "_________________________________________________________________\n",
      "Layer (type)                 Output Shape              Param #   \n",
      "=================================================================\n",
      "embedding_vocab (Embedding)  (30, 20, 200)             2000000   \n",
      "_________________________________________________________________\n",
      "rnn (RNN)                    (30, 20, 128)             671088    \n",
      "_________________________________________________________________\n",
      "dense (Dense)                (30, 20, 10000)           1290000   \n",
      "_________________________________________________________________\n",
      "activation (Activation)      (30, 20, 10000)           0         \n",
      "=================================================================\n",
      "Total params: 3,961,088\n",
      "Trainable params: 3,955,088\n",
      "Non-trainable params: 6,000\n",
      "_________________________________________________________________\n"
     ]
    }
   ],
   "source": [
    "model = tf.keras.Sequential()\n",
    "model.add(embedding_layer)\n",
    "model.add(layer)\n",
    "model.add(dense)\n",
    "model.add(activation)\n",
    "model.compile(loss=crossentropy, optimizer=optimizer)\n",
    "model.summary()"
   ]
  },
  {
   "cell_type": "markdown",
   "metadata": {},
   "source": [
    "\n",
    "<h4>2. Trainable Variables</h4>\n"
   ]
  },
  {
   "cell_type": "markdown",
   "metadata": {},
   "source": [
    "Defining a variable, if you passed <i>trainable=True</i>, the variable constructor automatically adds new variables to the graph collection <b>GraphKeys.TRAINABLE_VARIABLES</b>. Now, using <i>tf.trainable_variables()</i> you can get all variables created with <b>trainable=True</b>.\n"
   ]
  },
  {
   "cell_type": "code",
   "execution_count": 54,
   "metadata": {},
   "outputs": [],
   "source": [
    "# Get all TensorFlow variables marked as \"trainable\" (i.e. all of them except _lr, which we just created)\n",
    "tvars = model.trainable_variables"
   ]
  },
  {
   "cell_type": "markdown",
   "metadata": {},
   "source": [
    "Note: we can find the name and scope of all variables:\n"
   ]
  },
  {
   "cell_type": "code",
   "execution_count": 55,
   "metadata": {},
   "outputs": [
    {
     "data": {
      "text/plain": [
       "['embedding_vocab/embeddings:0',\n",
       " 'rnn/stacked_rnn_cells/lstm_cell/kernel:0',\n",
       " 'rnn/stacked_rnn_cells/lstm_cell/recurrent_kernel:0',\n",
       " 'rnn/stacked_rnn_cells/lstm_cell/bias:0',\n",
       " 'rnn/stacked_rnn_cells/lstm_cell_1/kernel:0',\n",
       " 'rnn/stacked_rnn_cells/lstm_cell_1/recurrent_kernel:0',\n",
       " 'rnn/stacked_rnn_cells/lstm_cell_1/bias:0',\n",
       " 'dense/kernel:0',\n",
       " 'dense/bias:0']"
      ]
     },
     "execution_count": 55,
     "metadata": {},
     "output_type": "execute_result"
    }
   ],
   "source": [
    "[v.name for v in tvars] "
   ]
  },
  {
   "cell_type": "markdown",
   "metadata": {},
   "source": [
    "<h4>3. Calculate the gradients based on the loss function</h4>\n"
   ]
  },
  {
   "cell_type": "markdown",
   "metadata": {},
   "source": [
    "**Gradient**: The gradient of a function is the slope of its derivative (line), or in other words, the rate of change of a function. It's a vector (a direction to move) that points in the direction of greatest increase of the function, and calculated by the <b>derivative</b> operation.\n"
   ]
  },
  {
   "cell_type": "markdown",
   "metadata": {},
   "source": [
    "First lets recall the gradient function using an toy example:\n",
    "$$ z = \\left(2x^2 + 3xy\\right)$$\n"
   ]
  },
  {
   "cell_type": "code",
   "execution_count": 56,
   "metadata": {},
   "outputs": [],
   "source": [
    "x = tf.constant(1.0)\n",
    "y =  tf.constant(2.0)\n",
    "with tf.GradientTape(persistent=True) as g:\n",
    "    g.watch(x)\n",
    "    g.watch(y)\n",
    "    func_test = 2 * x * x + 3 * x * y"
   ]
  },
  {
   "cell_type": "markdown",
   "metadata": {},
   "source": [
    "The <b>tf.gradients()</b> function allows you to compute the symbolic gradient of one tensor with respect to one or more other tensors—including variables. <b>tf.gradients(func, xs)</b> constructs symbolic partial derivatives of sum of <b>func</b> w.r.t. <i>x</i> in <b>xs</b>. \n",
    "\n",
    "Now, lets look at the derivitive w.r.t. <b>var_x</b>:\n",
    "$$ \\frac{\\partial \\:}{\\partial \\:x}\\left(2x^2 + 3xy\\right) = 4x + 3y $$\n"
   ]
  },
  {
   "cell_type": "code",
   "execution_count": 57,
   "metadata": {},
   "outputs": [
    {
     "name": "stdout",
     "output_type": "stream",
     "text": [
      "tf.Tensor(10.0, shape=(), dtype=float32)\n"
     ]
    }
   ],
   "source": [
    "var_grad = g.gradient(func_test, x) # Will compute to 10.0\n",
    "print(var_grad)"
   ]
  },
  {
   "cell_type": "markdown",
   "metadata": {},
   "source": [
    "the derivative w.r.t. <b>var_y</b>:\n",
    "$$ \\frac{\\partial \\:}{\\partial \\:y}\\left(2x^2 + 3xy\\right) = 3x $$\n"
   ]
  },
  {
   "cell_type": "code",
   "execution_count": 58,
   "metadata": {},
   "outputs": [
    {
     "name": "stdout",
     "output_type": "stream",
     "text": [
      "tf.Tensor(3.0, shape=(), dtype=float32)\n"
     ]
    }
   ],
   "source": [
    "var_grad = g.gradient(func_test, y) # Will compute to 3.0\n",
    "print(var_grad)"
   ]
  },
  {
   "cell_type": "markdown",
   "metadata": {},
   "source": [
    "Now, we can look at gradients w.r.t all variables:\n"
   ]
  },
  {
   "cell_type": "code",
   "execution_count": 59,
   "metadata": {},
   "outputs": [],
   "source": [
    "with tf.GradientTape() as tape:\n",
    "    # Forward pass.\n",
    "    output_words_prob = model(_input_data)\n",
    "    # Loss value for this batch.\n",
    "    loss  = crossentropy(_targets, output_words_prob)\n",
    "    cost = tf.reduce_sum(loss,axis=0) / batch_size"
   ]
  },
  {
   "cell_type": "code",
   "execution_count": 60,
   "metadata": {},
   "outputs": [],
   "source": [
    "# Get gradients of loss wrt the trainable variables.\n",
    "grad_t_list = tape.gradient(cost, tvars)"
   ]
  },
  {
   "cell_type": "code",
   "execution_count": 61,
   "metadata": {},
   "outputs": [
    {
     "name": "stdout",
     "output_type": "stream",
     "text": [
      "[<tensorflow.python.framework.indexed_slices.IndexedSlices object at 0x7f83172b0410>, <tf.Tensor: shape=(200, 1024), dtype=float32, numpy=\n",
      "array([[-9.95296091e-07, -7.89996406e-08,  3.62237216e-07, ...,\n",
      "        -5.45910780e-07,  7.55701066e-08, -1.21832244e-07],\n",
      "       [ 6.24109077e-07,  2.21708532e-07,  3.86374722e-07, ...,\n",
      "         2.36994111e-07, -3.25752268e-07,  6.96751741e-08],\n",
      "       [ 7.07726372e-07,  3.73165676e-07,  1.12700235e-07, ...,\n",
      "         2.46476020e-07, -1.70279236e-07, -4.37756484e-07],\n",
      "       ...,\n",
      "       [ 5.87536420e-07, -5.31342152e-08,  5.86463273e-07, ...,\n",
      "        -6.05973014e-08,  9.67604365e-07, -2.06282252e-07],\n",
      "       [ 1.12852354e-06,  2.31749073e-06,  2.32870036e-07, ...,\n",
      "        -6.80515484e-08, -1.66409592e-07, -5.53459131e-07],\n",
      "       [-6.14169835e-07,  1.23246537e-06,  8.41724912e-08, ...,\n",
      "        -6.92685447e-08,  3.31252807e-07, -7.14417610e-08]], dtype=float32)>, <tf.Tensor: shape=(256, 1024), dtype=float32, numpy=\n",
      "array([[ 5.12927798e-08,  7.02707013e-08, -1.41998726e-07, ...,\n",
      "        -1.32029442e-07,  1.56522887e-07,  3.63228452e-08],\n",
      "       [-1.05370276e-07, -3.91314217e-08,  1.41282982e-07, ...,\n",
      "         9.49323606e-08,  1.84390473e-07, -8.78911379e-08],\n",
      "       [ 1.81230035e-07, -3.15254702e-08,  1.88342412e-07, ...,\n",
      "        -1.01182600e-08, -3.29188019e-08, -7.22512183e-08],\n",
      "       ...,\n",
      "       [-1.29436373e-07,  1.78443059e-07, -1.29490573e-07, ...,\n",
      "        -1.26587977e-07, -2.38596343e-09, -6.33754027e-08],\n",
      "       [ 6.69496529e-08, -1.58249350e-07, -2.46074023e-08, ...,\n",
      "         1.36428511e-07,  1.18039975e-06, -2.83545720e-09],\n",
      "       [ 1.32424717e-07,  5.28497566e-08,  1.17275732e-07, ...,\n",
      "        -6.34653432e-08, -3.91678157e-09, -4.24854818e-09]], dtype=float32)>, <tf.Tensor: shape=(1024,), dtype=float32, numpy=\n",
      "array([-2.2907079e-07, -2.7326045e-05,  1.4448689e-05, ...,\n",
      "       -3.4642312e-06,  5.9910511e-05, -1.9995172e-05], dtype=float32)>, <tf.Tensor: shape=(256, 512), dtype=float32, numpy=\n",
      "array([[-2.79778732e-07,  4.36386642e-08, -2.74141541e-07, ...,\n",
      "        -1.12728920e-07,  1.66115086e-07,  7.25479765e-09],\n",
      "       [-3.18179673e-07, -4.79825317e-08,  1.04310374e-07, ...,\n",
      "        -6.99135398e-08, -5.67802658e-08,  4.04438012e-08],\n",
      "       [ 1.07388722e-07, -8.23402644e-08,  5.50258363e-08, ...,\n",
      "        -2.97345437e-09,  1.07045999e-07,  3.85378343e-08],\n",
      "       ...,\n",
      "       [-9.64362812e-10,  1.47322538e-07,  1.43171718e-07, ...,\n",
      "         9.03616240e-08,  1.89104284e-07,  1.11532231e-07],\n",
      "       [ 1.43306295e-07, -1.87188292e-08,  3.56000029e-09, ...,\n",
      "        -1.28993861e-07, -1.67463497e-07,  5.71301584e-08],\n",
      "       [-6.19100859e-09,  2.93831164e-08,  1.35514668e-07, ...,\n",
      "         1.51101844e-07,  6.68581208e-08,  3.57153851e-07]], dtype=float32)>, <tf.Tensor: shape=(128, 512), dtype=float32, numpy=\n",
      "array([[ 3.3102907e-07,  3.7825600e-09,  1.8936407e-07, ...,\n",
      "         2.6030733e-11, -4.1677652e-08,  1.0414988e-07],\n",
      "       [-1.8736877e-08, -3.0010266e-08,  9.6424124e-08, ...,\n",
      "         1.0787084e-07, -6.4751760e-11,  8.4014061e-08],\n",
      "       [ 6.7515231e-08, -4.0337383e-08,  1.8160276e-07, ...,\n",
      "        -1.5403559e-08,  4.4812392e-08,  1.7430725e-07],\n",
      "       ...,\n",
      "       [-8.5371781e-09,  4.3854605e-08, -3.6892310e-08, ...,\n",
      "        -2.0573283e-07,  2.7853211e-08, -8.8205873e-08],\n",
      "       [ 6.4760250e-08, -6.9257531e-08, -7.0146498e-08, ...,\n",
      "        -8.9536805e-09, -2.0815784e-07,  9.9817342e-08],\n",
      "       [-1.2776633e-07, -7.9240237e-08, -7.4179702e-08, ...,\n",
      "        -6.8209559e-08,  2.5217112e-08, -1.3418686e-07]], dtype=float32)>, <tf.Tensor: shape=(512,), dtype=float32, numpy=\n",
      "array([-1.33983995e-05, -2.04603602e-05, -2.46244235e-05, -4.44808684e-05,\n",
      "        2.44790299e-05, -8.61693843e-05,  2.80964668e-05, -2.29967281e-06,\n",
      "       -1.21512767e-05, -1.86726757e-05, -2.30212281e-05, -2.09621448e-05,\n",
      "       -1.43433781e-05,  3.15673278e-05,  1.49063071e-05,  1.03239709e-05,\n",
      "       -3.36438025e-05,  1.21955618e-05, -6.38201618e-06,  5.64952425e-05,\n",
      "        1.85453100e-05, -4.23291094e-05, -1.34748349e-04, -6.92091417e-05,\n",
      "       -6.53366578e-06, -1.50146388e-05,  1.64718422e-05,  3.33665753e-07,\n",
      "        3.89217312e-05, -4.40955409e-06, -2.51785559e-06,  1.30724766e-05,\n",
      "       -3.03786310e-05, -5.35332911e-05, -1.11241905e-04,  2.14132342e-05,\n",
      "       -4.21123059e-06, -1.89761522e-05, -3.94186782e-06,  4.07410989e-05,\n",
      "        3.42780586e-05, -1.04667015e-05,  8.94070581e-06, -5.97487315e-06,\n",
      "        7.64327415e-05, -5.22857736e-05,  3.94140734e-05,  1.81164050e-05,\n",
      "        1.00943187e-04,  1.63964996e-05,  3.53889773e-05,  7.64660490e-06,\n",
      "       -8.07896577e-05, -2.54084007e-05,  2.66626994e-05, -8.18042463e-06,\n",
      "       -1.13870674e-05,  4.31020890e-05, -2.54913357e-05, -5.05844873e-05,\n",
      "       -1.58093353e-05,  2.67810919e-05, -6.81234305e-05, -1.03220927e-05,\n",
      "       -1.93010655e-05,  4.80843410e-05, -4.12859008e-05,  3.80413767e-05,\n",
      "        3.91302965e-05, -2.95827995e-05, -2.08742895e-05,  5.75901095e-06,\n",
      "        1.65014444e-05,  1.52586945e-05, -8.89731564e-06, -1.31609588e-04,\n",
      "       -6.58187491e-06, -3.44439832e-05,  8.65118454e-06, -5.95520105e-05,\n",
      "        1.92535535e-05,  4.63685974e-05, -4.63844990e-05, -2.05305769e-05,\n",
      "       -4.60796873e-05, -4.51914057e-05,  6.42598097e-05, -1.12042671e-05,\n",
      "       -1.70615313e-05,  2.34901108e-05, -7.60033581e-05, -6.46971694e-06,\n",
      "       -6.35953620e-05,  6.86955991e-06, -3.26788067e-05,  6.17283731e-05,\n",
      "        3.71993810e-05,  4.34158646e-05,  8.31084435e-06, -4.87815714e-06,\n",
      "       -1.06487831e-04,  2.03532654e-05,  3.89234883e-05,  1.71639367e-05,\n",
      "       -8.21194117e-05, -1.81324976e-05,  1.55802227e-05, -2.35689949e-05,\n",
      "        2.75289040e-05,  3.16148435e-05, -3.39121252e-05,  3.47112727e-05,\n",
      "        8.90379397e-08,  1.21702824e-05,  4.30092041e-05,  1.15803041e-05,\n",
      "        5.69590557e-05, -3.84181985e-05,  1.39852182e-06,  2.84489906e-05,\n",
      "       -5.24435163e-05,  2.52520676e-05,  5.44273462e-05, -3.68818655e-05,\n",
      "       -4.42202372e-06, -1.91597537e-05,  1.79988874e-05, -5.29136014e-06,\n",
      "        8.00737325e-07, -2.92062141e-05, -4.26023616e-05, -7.01058525e-05,\n",
      "        3.64497464e-05, -1.16735260e-04,  2.21731989e-06, -8.85307145e-06,\n",
      "       -3.47467244e-06, -3.95855895e-05, -5.04259770e-05, -2.04548305e-05,\n",
      "       -1.61712633e-05,  8.92130265e-05,  7.41251552e-06,  1.30748340e-05,\n",
      "       -2.81250977e-05,  3.02602239e-05, -2.10477538e-05,  8.11135105e-05,\n",
      "        7.28801297e-06, -4.06804247e-05, -1.89287748e-04, -9.00510058e-05,\n",
      "       -2.38362395e-06,  3.75956165e-06,  3.42546118e-05,  5.86630904e-06,\n",
      "        7.09570450e-05,  1.25298720e-06, -1.41996861e-06, -8.08878940e-06,\n",
      "       -1.97828194e-05, -5.25554933e-05, -1.71911175e-04,  2.14445081e-05,\n",
      "       -4.90850380e-06, -1.91700383e-05, -2.84641901e-05,  7.66689191e-05,\n",
      "        3.73705880e-05, -2.26161919e-05,  9.04368790e-06, -2.89932141e-05,\n",
      "        8.81015440e-05, -5.75147133e-05,  5.46855736e-05,  4.58318245e-05,\n",
      "        1.14535898e-04, -2.95507107e-06,  5.38937529e-05,  1.03733910e-05,\n",
      "       -9.65764775e-05, -1.87603509e-05,  1.42337176e-05, -2.19185240e-05,\n",
      "        3.67064285e-06,  6.52284434e-05, -2.24873802e-05, -6.68043867e-05,\n",
      "        1.26388022e-05,  3.04179648e-05, -9.67535452e-05, -6.35789092e-06,\n",
      "       -1.98576890e-05,  7.01659883e-05, -5.15105421e-05,  4.05740429e-05,\n",
      "        2.96830658e-05, -3.20908475e-05, -4.10654684e-05,  3.24098528e-06,\n",
      "        2.15829386e-05,  2.18353816e-05,  6.42074292e-06, -2.01383344e-04,\n",
      "       -1.28691272e-05, -5.18276756e-05,  2.00059494e-05, -1.09009074e-04,\n",
      "        9.53474955e-06,  5.25083524e-05, -5.01790782e-05, -2.18306923e-05,\n",
      "       -7.90184422e-05, -7.99969130e-05,  6.11709547e-05, -8.36913750e-06,\n",
      "       -3.57031277e-05, -1.09531247e-05, -8.73093741e-05,  7.22424556e-06,\n",
      "       -9.43617270e-05,  1.24345715e-05, -1.26353671e-05,  8.57616396e-05,\n",
      "        5.39335779e-05,  4.28059247e-05,  2.06126570e-05, -8.40374014e-07,\n",
      "       -1.60494834e-04,  1.80311872e-05,  4.69633269e-05,  4.46608428e-05,\n",
      "       -7.26114886e-05, -1.92554689e-05,  1.34120082e-05, -4.75053639e-05,\n",
      "        1.89206457e-06,  3.36094345e-05, -2.06463483e-05,  3.57293829e-05,\n",
      "        4.22398170e-06,  1.32725181e-05,  5.05917051e-05,  1.98970629e-05,\n",
      "        5.56074046e-05, -3.59349433e-05,  6.00046678e-06,  4.68683902e-05,\n",
      "       -7.53516069e-05,  3.33586358e-05,  8.63028108e-05, -2.77748277e-05,\n",
      "       -1.32133791e-05, -3.65674205e-05,  2.70133223e-05, -1.78877926e-05,\n",
      "        2.88210995e-02, -2.02238327e-03,  2.43601389e-02,  4.51105237e-02,\n",
      "       -8.82101059e-03,  2.15149485e-02,  1.16628762e-02,  6.19856194e-02,\n",
      "       -1.68832019e-02, -1.08737210e-02, -2.95063406e-02,  6.17012754e-03,\n",
      "        2.33897027e-02,  1.51527231e-04,  4.20973264e-02, -1.12100039e-02,\n",
      "       -4.49630991e-02, -4.20268252e-02, -4.36509103e-02,  1.31030139e-02,\n",
      "        4.04773727e-02, -3.26345535e-03,  7.48147666e-02,  2.72951573e-02,\n",
      "       -4.18864889e-03, -2.21320475e-03, -1.83173232e-02, -2.34423601e-03,\n",
      "        1.34491338e-03, -4.07187790e-02,  5.09876087e-02, -7.57052377e-03,\n",
      "       -2.69041248e-02,  2.95575596e-02, -5.00308014e-02,  4.92031686e-03,\n",
      "       -3.03808283e-02,  1.43180992e-02,  1.17057851e-02, -5.46222739e-02,\n",
      "        1.57425106e-02,  5.71977533e-03, -3.94220976e-03,  6.34623244e-02,\n",
      "       -2.34668981e-02,  4.03301185e-03,  1.31616686e-02,  5.24586625e-03,\n",
      "       -3.60385068e-02,  5.66721521e-03,  1.53541993e-02, -4.11850661e-02,\n",
      "        8.92793760e-04, -2.79313475e-02, -1.93004385e-02, -5.99904880e-02,\n",
      "        1.67142693e-03,  3.24393390e-03, -5.39289182e-03, -1.51415337e-02,\n",
      "       -2.19549928e-02, -1.46788163e-02,  4.23500985e-02,  2.95744091e-02,\n",
      "       -2.87003759e-02,  2.39567757e-02, -1.09144840e-02,  5.57352304e-02,\n",
      "        7.87523016e-03,  1.62702352e-02, -2.43120026e-02, -2.51962282e-02,\n",
      "       -3.09264772e-02,  1.61262378e-02,  3.54053751e-02,  6.64832219e-02,\n",
      "       -1.04687763e-02, -3.26231271e-02,  6.47271192e-03, -3.58336605e-02,\n",
      "        2.40540169e-02, -2.78952792e-02, -7.77562242e-03,  7.97605235e-03,\n",
      "       -2.12288704e-02,  3.50475386e-02,  1.70099158e-02,  1.10721244e-02,\n",
      "        1.16521283e-03,  8.31719954e-03,  1.12294033e-02, -3.95698026e-02,\n",
      "        2.73970589e-02, -1.94243491e-02,  5.93625270e-02,  3.21368054e-02,\n",
      "       -1.09754810e-02, -2.47306526e-02,  1.62457228e-02, -4.21418576e-03,\n",
      "        1.12176016e-01,  1.57254878e-02, -7.57517759e-04,  2.47009546e-02,\n",
      "       -5.18670864e-02, -7.79697299e-03, -9.11198743e-03, -4.07020338e-02,\n",
      "        3.23161818e-02, -4.57359776e-02,  6.44656969e-03,  3.22006689e-03,\n",
      "       -2.18087249e-02,  9.12243221e-03,  2.04906873e-02,  2.00624894e-02,\n",
      "        1.33423004e-02,  1.56285204e-02, -1.66690573e-02, -3.18302661e-02,\n",
      "       -6.35317490e-02,  1.19564263e-03,  3.23434770e-02, -4.20394093e-02,\n",
      "        2.10699365e-02, -3.62454802e-02, -8.74494761e-03,  1.02267391e-03,\n",
      "       -1.05605795e-06, -2.65714370e-05, -3.09156167e-05, -5.09516176e-05,\n",
      "        3.45760927e-05, -9.10868694e-05,  3.04088626e-05,  5.52539132e-06,\n",
      "       -1.77077382e-05, -1.87690348e-05, -2.55437990e-05, -1.28840857e-05,\n",
      "       -2.26329394e-05,  4.95476561e-05,  1.52409739e-05,  2.04992102e-05,\n",
      "       -5.11862236e-05,  1.17773798e-05, -6.66755022e-06,  5.07399091e-05,\n",
      "        2.74264203e-05, -4.70742707e-05, -1.45636935e-04, -8.21060676e-05,\n",
      "       -7.06553055e-06, -1.33635886e-05,  2.78231437e-05, -2.03064428e-06,\n",
      "        4.41777411e-05, -1.65360125e-05,  2.94741949e-06,  7.78306185e-06,\n",
      "       -3.09536481e-05, -5.84707705e-05, -1.30828834e-04,  2.11433435e-05,\n",
      "        2.17086927e-06, -1.77596085e-05, -8.48064155e-06,  5.06303804e-05,\n",
      "        3.50452174e-05, -7.72034218e-06, -2.80955646e-06, -7.63610115e-06,\n",
      "        8.78584397e-05, -5.74750084e-05,  4.15649920e-05,  2.02639822e-05,\n",
      "        1.12967304e-04,  1.02838931e-05,  3.78822369e-05, -3.89040224e-06,\n",
      "       -8.58500207e-05, -2.91864853e-05,  2.57353113e-05, -9.37521145e-06,\n",
      "        7.30818101e-07,  4.32274101e-05, -2.44151615e-05, -5.44680079e-05,\n",
      "       -1.86690777e-05,  2.65667750e-05, -7.65307341e-05,  1.06104562e-06,\n",
      "       -2.64623941e-05,  5.11850594e-05, -3.80222118e-05,  4.43209392e-05,\n",
      "        4.35058464e-05, -3.56531236e-05, -2.40684603e-05,  1.28538004e-05,\n",
      "        2.50406974e-05,  1.57303366e-05, -1.10733072e-05, -1.47714949e-04,\n",
      "       -3.64287644e-06, -3.59641563e-05,  1.69328396e-05, -8.02619543e-05,\n",
      "        2.24682335e-05,  5.66909512e-05, -4.51234373e-05, -1.78319497e-05,\n",
      "       -4.67514510e-05, -4.86909812e-05,  5.92504985e-05, -1.08145805e-05,\n",
      "       -1.37559273e-05,  2.16555200e-05, -8.10644560e-05, -1.34438096e-05,\n",
      "       -7.15111237e-05,  8.96469101e-06, -3.67013090e-05,  6.77283242e-05,\n",
      "        3.65716187e-05,  5.34001847e-05,  5.99388795e-06, -5.24211646e-06,\n",
      "       -1.22312224e-04,  2.21691862e-05,  3.26670452e-05,  2.75767452e-05,\n",
      "       -9.04090266e-05, -2.07256344e-05,  9.98970791e-06, -2.82721612e-05,\n",
      "        4.24838618e-05,  2.63890252e-05, -3.21371808e-05,  5.06659781e-05,\n",
      "       -3.29928980e-06,  7.30687225e-06,  5.87750765e-05,  1.88276681e-05,\n",
      "        5.96744321e-05, -4.22236772e-05,  8.25398092e-06,  2.62782523e-05,\n",
      "       -6.56362099e-05,  2.83283371e-05,  5.62117930e-05, -3.53738578e-05,\n",
      "       -9.10962808e-06, -2.14933079e-05,  1.31443958e-05, -8.72245255e-06],\n",
      "      dtype=float32)>, <tf.Tensor: shape=(128, 10000), dtype=float32, numpy=\n",
      "array([[ 1.17204094e-04, -2.96081853e-04,  8.22020054e-04, ...,\n",
      "        -1.42303350e-06, -1.42279237e-06, -1.42163515e-06],\n",
      "       [ 1.22759992e-03,  1.63225643e-03,  9.97702009e-04, ...,\n",
      "        -1.01653745e-06, -1.01856335e-06, -1.01575824e-06],\n",
      "       [-6.70443289e-04, -5.46458876e-04,  2.23256560e-04, ...,\n",
      "         5.78017875e-07,  5.77777314e-07,  5.79166624e-07],\n",
      "       ...,\n",
      "       [-1.00593886e-03, -8.24448070e-04, -9.35166259e-04, ...,\n",
      "         1.75277000e-06,  1.75327636e-06,  1.75323203e-06],\n",
      "       [-5.17890381e-04, -8.96181387e-04, -1.03225058e-03, ...,\n",
      "         1.66287009e-06,  1.66257507e-06,  1.66117002e-06],\n",
      "       [-2.44368613e-03, -3.56411049e-03, -4.37202677e-03, ...,\n",
      "         6.27016561e-06,  6.27386726e-06,  6.26905148e-06]], dtype=float32)>, <tf.Tensor: shape=(10000,), dtype=float32, numpy=\n",
      "array([-0.7979981 , -1.0313318 , -1.0313315 , ...,  0.00199998,\n",
      "        0.00200083,  0.00199993], dtype=float32)>]\n"
     ]
    }
   ],
   "source": [
    "print(grad_t_list)"
   ]
  },
  {
   "cell_type": "markdown",
   "metadata": {},
   "source": [
    "\n",
    "\n",
    "\n",
    "now, we have a list of tensors, t-list. We can use it to find clipped tensors. <b>clip_by_global_norm</b> clips values of multiple tensors by the ratio of the sum of their norms.\n",
    "\n",
    "<b>clip_by_global_norm</b> get <i>t-list</i> as input and returns 2 things:\n",
    "<ul>\n",
    "    <li>a list of clipped tensors, so called <i>list_clipped</i></li> \n",
    "    <li>the global norm (global_norm) of all tensors in t_list</li> \n",
    "</ul>\n"
   ]
  },
  {
   "cell_type": "code",
   "execution_count": 62,
   "metadata": {},
   "outputs": [
    {
     "data": {
      "text/plain": [
       "[<tensorflow.python.framework.indexed_slices.IndexedSlices at 0x7f83172aa050>,\n",
       " <tf.Tensor: shape=(200, 1024), dtype=float32, numpy=\n",
       " array([[-9.95296091e-07, -7.89996406e-08,  3.62237216e-07, ...,\n",
       "         -5.45910780e-07,  7.55701066e-08, -1.21832244e-07],\n",
       "        [ 6.24109077e-07,  2.21708532e-07,  3.86374722e-07, ...,\n",
       "          2.36994111e-07, -3.25752268e-07,  6.96751741e-08],\n",
       "        [ 7.07726372e-07,  3.73165676e-07,  1.12700235e-07, ...,\n",
       "          2.46476020e-07, -1.70279236e-07, -4.37756484e-07],\n",
       "        ...,\n",
       "        [ 5.87536420e-07, -5.31342152e-08,  5.86463273e-07, ...,\n",
       "         -6.05973014e-08,  9.67604365e-07, -2.06282252e-07],\n",
       "        [ 1.12852354e-06,  2.31749073e-06,  2.32870036e-07, ...,\n",
       "         -6.80515484e-08, -1.66409592e-07, -5.53459131e-07],\n",
       "        [-6.14169835e-07,  1.23246537e-06,  8.41724912e-08, ...,\n",
       "         -6.92685447e-08,  3.31252807e-07, -7.14417610e-08]], dtype=float32)>,\n",
       " <tf.Tensor: shape=(256, 1024), dtype=float32, numpy=\n",
       " array([[ 5.12927798e-08,  7.02707013e-08, -1.41998726e-07, ...,\n",
       "         -1.32029442e-07,  1.56522887e-07,  3.63228452e-08],\n",
       "        [-1.05370276e-07, -3.91314217e-08,  1.41282982e-07, ...,\n",
       "          9.49323606e-08,  1.84390473e-07, -8.78911379e-08],\n",
       "        [ 1.81230035e-07, -3.15254702e-08,  1.88342412e-07, ...,\n",
       "         -1.01182600e-08, -3.29188019e-08, -7.22512183e-08],\n",
       "        ...,\n",
       "        [-1.29436373e-07,  1.78443059e-07, -1.29490573e-07, ...,\n",
       "         -1.26587977e-07, -2.38596343e-09, -6.33754027e-08],\n",
       "        [ 6.69496529e-08, -1.58249350e-07, -2.46074023e-08, ...,\n",
       "          1.36428511e-07,  1.18039975e-06, -2.83545720e-09],\n",
       "        [ 1.32424717e-07,  5.28497566e-08,  1.17275732e-07, ...,\n",
       "         -6.34653432e-08, -3.91678157e-09, -4.24854818e-09]], dtype=float32)>,\n",
       " <tf.Tensor: shape=(1024,), dtype=float32, numpy=\n",
       " array([-2.2907079e-07, -2.7326045e-05,  1.4448689e-05, ...,\n",
       "        -3.4642312e-06,  5.9910511e-05, -1.9995172e-05], dtype=float32)>,\n",
       " <tf.Tensor: shape=(256, 512), dtype=float32, numpy=\n",
       " array([[-2.79778732e-07,  4.36386642e-08, -2.74141541e-07, ...,\n",
       "         -1.12728920e-07,  1.66115086e-07,  7.25479765e-09],\n",
       "        [-3.18179673e-07, -4.79825317e-08,  1.04310374e-07, ...,\n",
       "         -6.99135398e-08, -5.67802658e-08,  4.04438012e-08],\n",
       "        [ 1.07388722e-07, -8.23402644e-08,  5.50258363e-08, ...,\n",
       "         -2.97345437e-09,  1.07045999e-07,  3.85378343e-08],\n",
       "        ...,\n",
       "        [-9.64362812e-10,  1.47322538e-07,  1.43171718e-07, ...,\n",
       "          9.03616240e-08,  1.89104284e-07,  1.11532231e-07],\n",
       "        [ 1.43306295e-07, -1.87188292e-08,  3.56000029e-09, ...,\n",
       "         -1.28993861e-07, -1.67463497e-07,  5.71301584e-08],\n",
       "        [-6.19100859e-09,  2.93831164e-08,  1.35514668e-07, ...,\n",
       "          1.51101844e-07,  6.68581208e-08,  3.57153851e-07]], dtype=float32)>,\n",
       " <tf.Tensor: shape=(128, 512), dtype=float32, numpy=\n",
       " array([[ 3.3102907e-07,  3.7825600e-09,  1.8936407e-07, ...,\n",
       "          2.6030733e-11, -4.1677652e-08,  1.0414988e-07],\n",
       "        [-1.8736877e-08, -3.0010266e-08,  9.6424124e-08, ...,\n",
       "          1.0787084e-07, -6.4751760e-11,  8.4014061e-08],\n",
       "        [ 6.7515231e-08, -4.0337383e-08,  1.8160276e-07, ...,\n",
       "         -1.5403559e-08,  4.4812392e-08,  1.7430725e-07],\n",
       "        ...,\n",
       "        [-8.5371781e-09,  4.3854605e-08, -3.6892310e-08, ...,\n",
       "         -2.0573283e-07,  2.7853211e-08, -8.8205873e-08],\n",
       "        [ 6.4760250e-08, -6.9257531e-08, -7.0146498e-08, ...,\n",
       "         -8.9536805e-09, -2.0815784e-07,  9.9817342e-08],\n",
       "        [-1.2776633e-07, -7.9240237e-08, -7.4179702e-08, ...,\n",
       "         -6.8209559e-08,  2.5217112e-08, -1.3418686e-07]], dtype=float32)>,\n",
       " <tf.Tensor: shape=(512,), dtype=float32, numpy=\n",
       " array([-1.33983995e-05, -2.04603602e-05, -2.46244235e-05, -4.44808684e-05,\n",
       "         2.44790299e-05, -8.61693843e-05,  2.80964668e-05, -2.29967281e-06,\n",
       "        -1.21512767e-05, -1.86726757e-05, -2.30212281e-05, -2.09621448e-05,\n",
       "        -1.43433781e-05,  3.15673278e-05,  1.49063071e-05,  1.03239709e-05,\n",
       "        -3.36438025e-05,  1.21955618e-05, -6.38201618e-06,  5.64952425e-05,\n",
       "         1.85453100e-05, -4.23291094e-05, -1.34748349e-04, -6.92091417e-05,\n",
       "        -6.53366578e-06, -1.50146388e-05,  1.64718422e-05,  3.33665753e-07,\n",
       "         3.89217312e-05, -4.40955409e-06, -2.51785559e-06,  1.30724766e-05,\n",
       "        -3.03786310e-05, -5.35332911e-05, -1.11241905e-04,  2.14132342e-05,\n",
       "        -4.21123059e-06, -1.89761522e-05, -3.94186782e-06,  4.07410989e-05,\n",
       "         3.42780586e-05, -1.04667015e-05,  8.94070581e-06, -5.97487315e-06,\n",
       "         7.64327415e-05, -5.22857736e-05,  3.94140734e-05,  1.81164050e-05,\n",
       "         1.00943187e-04,  1.63964996e-05,  3.53889773e-05,  7.64660490e-06,\n",
       "        -8.07896577e-05, -2.54084007e-05,  2.66626994e-05, -8.18042463e-06,\n",
       "        -1.13870674e-05,  4.31020890e-05, -2.54913357e-05, -5.05844873e-05,\n",
       "        -1.58093353e-05,  2.67810919e-05, -6.81234305e-05, -1.03220927e-05,\n",
       "        -1.93010655e-05,  4.80843410e-05, -4.12859008e-05,  3.80413767e-05,\n",
       "         3.91302965e-05, -2.95827995e-05, -2.08742895e-05,  5.75901095e-06,\n",
       "         1.65014444e-05,  1.52586945e-05, -8.89731564e-06, -1.31609588e-04,\n",
       "        -6.58187491e-06, -3.44439832e-05,  8.65118454e-06, -5.95520105e-05,\n",
       "         1.92535535e-05,  4.63685974e-05, -4.63844990e-05, -2.05305769e-05,\n",
       "        -4.60796873e-05, -4.51914057e-05,  6.42598097e-05, -1.12042671e-05,\n",
       "        -1.70615313e-05,  2.34901108e-05, -7.60033581e-05, -6.46971694e-06,\n",
       "        -6.35953620e-05,  6.86955991e-06, -3.26788067e-05,  6.17283731e-05,\n",
       "         3.71993810e-05,  4.34158646e-05,  8.31084435e-06, -4.87815714e-06,\n",
       "        -1.06487831e-04,  2.03532654e-05,  3.89234883e-05,  1.71639367e-05,\n",
       "        -8.21194117e-05, -1.81324976e-05,  1.55802227e-05, -2.35689949e-05,\n",
       "         2.75289040e-05,  3.16148435e-05, -3.39121252e-05,  3.47112727e-05,\n",
       "         8.90379397e-08,  1.21702824e-05,  4.30092041e-05,  1.15803041e-05,\n",
       "         5.69590557e-05, -3.84181985e-05,  1.39852182e-06,  2.84489906e-05,\n",
       "        -5.24435163e-05,  2.52520676e-05,  5.44273462e-05, -3.68818655e-05,\n",
       "        -4.42202372e-06, -1.91597537e-05,  1.79988874e-05, -5.29136014e-06,\n",
       "         8.00737325e-07, -2.92062141e-05, -4.26023616e-05, -7.01058525e-05,\n",
       "         3.64497464e-05, -1.16735260e-04,  2.21731989e-06, -8.85307145e-06,\n",
       "        -3.47467244e-06, -3.95855895e-05, -5.04259770e-05, -2.04548305e-05,\n",
       "        -1.61712633e-05,  8.92130265e-05,  7.41251552e-06,  1.30748340e-05,\n",
       "        -2.81250977e-05,  3.02602239e-05, -2.10477538e-05,  8.11135105e-05,\n",
       "         7.28801297e-06, -4.06804247e-05, -1.89287748e-04, -9.00510058e-05,\n",
       "        -2.38362395e-06,  3.75956165e-06,  3.42546118e-05,  5.86630904e-06,\n",
       "         7.09570450e-05,  1.25298720e-06, -1.41996861e-06, -8.08878940e-06,\n",
       "        -1.97828194e-05, -5.25554933e-05, -1.71911175e-04,  2.14445081e-05,\n",
       "        -4.90850380e-06, -1.91700383e-05, -2.84641901e-05,  7.66689191e-05,\n",
       "         3.73705880e-05, -2.26161919e-05,  9.04368790e-06, -2.89932141e-05,\n",
       "         8.81015440e-05, -5.75147133e-05,  5.46855736e-05,  4.58318245e-05,\n",
       "         1.14535898e-04, -2.95507107e-06,  5.38937529e-05,  1.03733910e-05,\n",
       "        -9.65764775e-05, -1.87603509e-05,  1.42337176e-05, -2.19185240e-05,\n",
       "         3.67064285e-06,  6.52284434e-05, -2.24873802e-05, -6.68043867e-05,\n",
       "         1.26388022e-05,  3.04179648e-05, -9.67535452e-05, -6.35789092e-06,\n",
       "        -1.98576890e-05,  7.01659883e-05, -5.15105421e-05,  4.05740429e-05,\n",
       "         2.96830658e-05, -3.20908475e-05, -4.10654684e-05,  3.24098528e-06,\n",
       "         2.15829386e-05,  2.18353816e-05,  6.42074292e-06, -2.01383344e-04,\n",
       "        -1.28691272e-05, -5.18276756e-05,  2.00059494e-05, -1.09009074e-04,\n",
       "         9.53474955e-06,  5.25083524e-05, -5.01790782e-05, -2.18306923e-05,\n",
       "        -7.90184422e-05, -7.99969130e-05,  6.11709547e-05, -8.36913750e-06,\n",
       "        -3.57031277e-05, -1.09531247e-05, -8.73093741e-05,  7.22424556e-06,\n",
       "        -9.43617270e-05,  1.24345715e-05, -1.26353671e-05,  8.57616396e-05,\n",
       "         5.39335779e-05,  4.28059247e-05,  2.06126570e-05, -8.40374014e-07,\n",
       "        -1.60494834e-04,  1.80311872e-05,  4.69633269e-05,  4.46608428e-05,\n",
       "        -7.26114886e-05, -1.92554689e-05,  1.34120082e-05, -4.75053639e-05,\n",
       "         1.89206457e-06,  3.36094345e-05, -2.06463483e-05,  3.57293829e-05,\n",
       "         4.22398170e-06,  1.32725181e-05,  5.05917051e-05,  1.98970629e-05,\n",
       "         5.56074046e-05, -3.59349433e-05,  6.00046678e-06,  4.68683902e-05,\n",
       "        -7.53516069e-05,  3.33586358e-05,  8.63028108e-05, -2.77748277e-05,\n",
       "        -1.32133791e-05, -3.65674205e-05,  2.70133223e-05, -1.78877926e-05,\n",
       "         2.88210995e-02, -2.02238327e-03,  2.43601389e-02,  4.51105237e-02,\n",
       "        -8.82101059e-03,  2.15149485e-02,  1.16628762e-02,  6.19856194e-02,\n",
       "        -1.68832019e-02, -1.08737210e-02, -2.95063406e-02,  6.17012754e-03,\n",
       "         2.33897027e-02,  1.51527231e-04,  4.20973264e-02, -1.12100039e-02,\n",
       "        -4.49630991e-02, -4.20268252e-02, -4.36509103e-02,  1.31030139e-02,\n",
       "         4.04773727e-02, -3.26345535e-03,  7.48147666e-02,  2.72951573e-02,\n",
       "        -4.18864889e-03, -2.21320475e-03, -1.83173232e-02, -2.34423601e-03,\n",
       "         1.34491338e-03, -4.07187790e-02,  5.09876087e-02, -7.57052377e-03,\n",
       "        -2.69041248e-02,  2.95575596e-02, -5.00308014e-02,  4.92031686e-03,\n",
       "        -3.03808283e-02,  1.43180992e-02,  1.17057851e-02, -5.46222739e-02,\n",
       "         1.57425106e-02,  5.71977533e-03, -3.94220976e-03,  6.34623244e-02,\n",
       "        -2.34668981e-02,  4.03301185e-03,  1.31616686e-02,  5.24586625e-03,\n",
       "        -3.60385068e-02,  5.66721521e-03,  1.53541993e-02, -4.11850661e-02,\n",
       "         8.92793760e-04, -2.79313475e-02, -1.93004385e-02, -5.99904880e-02,\n",
       "         1.67142693e-03,  3.24393390e-03, -5.39289182e-03, -1.51415337e-02,\n",
       "        -2.19549928e-02, -1.46788163e-02,  4.23500985e-02,  2.95744091e-02,\n",
       "        -2.87003759e-02,  2.39567757e-02, -1.09144840e-02,  5.57352304e-02,\n",
       "         7.87523016e-03,  1.62702352e-02, -2.43120026e-02, -2.51962282e-02,\n",
       "        -3.09264772e-02,  1.61262378e-02,  3.54053751e-02,  6.64832219e-02,\n",
       "        -1.04687763e-02, -3.26231271e-02,  6.47271192e-03, -3.58336605e-02,\n",
       "         2.40540169e-02, -2.78952792e-02, -7.77562242e-03,  7.97605235e-03,\n",
       "        -2.12288704e-02,  3.50475386e-02,  1.70099158e-02,  1.10721244e-02,\n",
       "         1.16521283e-03,  8.31719954e-03,  1.12294033e-02, -3.95698026e-02,\n",
       "         2.73970589e-02, -1.94243491e-02,  5.93625270e-02,  3.21368054e-02,\n",
       "        -1.09754810e-02, -2.47306526e-02,  1.62457228e-02, -4.21418576e-03,\n",
       "         1.12176016e-01,  1.57254878e-02, -7.57517759e-04,  2.47009546e-02,\n",
       "        -5.18670864e-02, -7.79697299e-03, -9.11198743e-03, -4.07020338e-02,\n",
       "         3.23161818e-02, -4.57359776e-02,  6.44656969e-03,  3.22006689e-03,\n",
       "        -2.18087249e-02,  9.12243221e-03,  2.04906873e-02,  2.00624894e-02,\n",
       "         1.33423004e-02,  1.56285204e-02, -1.66690573e-02, -3.18302661e-02,\n",
       "        -6.35317490e-02,  1.19564263e-03,  3.23434770e-02, -4.20394093e-02,\n",
       "         2.10699365e-02, -3.62454802e-02, -8.74494761e-03,  1.02267391e-03,\n",
       "        -1.05605795e-06, -2.65714370e-05, -3.09156167e-05, -5.09516176e-05,\n",
       "         3.45760927e-05, -9.10868694e-05,  3.04088626e-05,  5.52539132e-06,\n",
       "        -1.77077382e-05, -1.87690348e-05, -2.55437990e-05, -1.28840857e-05,\n",
       "        -2.26329394e-05,  4.95476561e-05,  1.52409739e-05,  2.04992102e-05,\n",
       "        -5.11862236e-05,  1.17773798e-05, -6.66755022e-06,  5.07399091e-05,\n",
       "         2.74264203e-05, -4.70742707e-05, -1.45636935e-04, -8.21060676e-05,\n",
       "        -7.06553055e-06, -1.33635886e-05,  2.78231437e-05, -2.03064428e-06,\n",
       "         4.41777411e-05, -1.65360125e-05,  2.94741949e-06,  7.78306185e-06,\n",
       "        -3.09536481e-05, -5.84707705e-05, -1.30828834e-04,  2.11433435e-05,\n",
       "         2.17086927e-06, -1.77596085e-05, -8.48064155e-06,  5.06303804e-05,\n",
       "         3.50452174e-05, -7.72034218e-06, -2.80955646e-06, -7.63610115e-06,\n",
       "         8.78584397e-05, -5.74750084e-05,  4.15649920e-05,  2.02639822e-05,\n",
       "         1.12967304e-04,  1.02838931e-05,  3.78822369e-05, -3.89040224e-06,\n",
       "        -8.58500207e-05, -2.91864853e-05,  2.57353113e-05, -9.37521145e-06,\n",
       "         7.30818101e-07,  4.32274101e-05, -2.44151615e-05, -5.44680079e-05,\n",
       "        -1.86690777e-05,  2.65667750e-05, -7.65307341e-05,  1.06104562e-06,\n",
       "        -2.64623941e-05,  5.11850594e-05, -3.80222118e-05,  4.43209392e-05,\n",
       "         4.35058464e-05, -3.56531236e-05, -2.40684603e-05,  1.28538004e-05,\n",
       "         2.50406974e-05,  1.57303366e-05, -1.10733072e-05, -1.47714949e-04,\n",
       "        -3.64287644e-06, -3.59641563e-05,  1.69328396e-05, -8.02619543e-05,\n",
       "         2.24682335e-05,  5.66909512e-05, -4.51234373e-05, -1.78319497e-05,\n",
       "        -4.67514510e-05, -4.86909812e-05,  5.92504985e-05, -1.08145805e-05,\n",
       "        -1.37559273e-05,  2.16555200e-05, -8.10644560e-05, -1.34438096e-05,\n",
       "        -7.15111237e-05,  8.96469101e-06, -3.67013090e-05,  6.77283242e-05,\n",
       "         3.65716187e-05,  5.34001847e-05,  5.99388795e-06, -5.24211646e-06,\n",
       "        -1.22312224e-04,  2.21691862e-05,  3.26670452e-05,  2.75767452e-05,\n",
       "        -9.04090266e-05, -2.07256344e-05,  9.98970791e-06, -2.82721612e-05,\n",
       "         4.24838618e-05,  2.63890252e-05, -3.21371808e-05,  5.06659781e-05,\n",
       "        -3.29928980e-06,  7.30687225e-06,  5.87750765e-05,  1.88276681e-05,\n",
       "         5.96744321e-05, -4.22236772e-05,  8.25398092e-06,  2.62782523e-05,\n",
       "        -6.56362099e-05,  2.83283371e-05,  5.62117930e-05, -3.53738578e-05,\n",
       "        -9.10962808e-06, -2.14933079e-05,  1.31443958e-05, -8.72245255e-06],\n",
       "       dtype=float32)>,\n",
       " <tf.Tensor: shape=(128, 10000), dtype=float32, numpy=\n",
       " array([[ 1.17204094e-04, -2.96081853e-04,  8.22020054e-04, ...,\n",
       "         -1.42303350e-06, -1.42279237e-06, -1.42163515e-06],\n",
       "        [ 1.22759992e-03,  1.63225643e-03,  9.97702009e-04, ...,\n",
       "         -1.01653745e-06, -1.01856335e-06, -1.01575824e-06],\n",
       "        [-6.70443289e-04, -5.46458876e-04,  2.23256560e-04, ...,\n",
       "          5.78017875e-07,  5.77777314e-07,  5.79166624e-07],\n",
       "        ...,\n",
       "        [-1.00593886e-03, -8.24448070e-04, -9.35166259e-04, ...,\n",
       "          1.75277000e-06,  1.75327636e-06,  1.75323203e-06],\n",
       "        [-5.17890381e-04, -8.96181387e-04, -1.03225058e-03, ...,\n",
       "          1.66287009e-06,  1.66257507e-06,  1.66117002e-06],\n",
       "        [-2.44368613e-03, -3.56411049e-03, -4.37202677e-03, ...,\n",
       "          6.27016561e-06,  6.27386726e-06,  6.26905148e-06]], dtype=float32)>,\n",
       " <tf.Tensor: shape=(10000,), dtype=float32, numpy=\n",
       " array([-0.7979981 , -1.0313318 , -1.0313315 , ...,  0.00199998,\n",
       "         0.00200083,  0.00199993], dtype=float32)>]"
      ]
     },
     "execution_count": 62,
     "metadata": {},
     "output_type": "execute_result"
    }
   ],
   "source": [
    "# Define the gradient clipping threshold\n",
    "grads, _ = tf.clip_by_global_norm(grad_t_list, max_grad_norm)\n",
    "grads"
   ]
  },
  {
   "cell_type": "code",
   "execution_count": 63,
   "metadata": {},
   "outputs": [
    {
     "data": {
      "text/plain": [
       "<tf.Tensor: shape=(), dtype=float32, numpy=2.3054442>"
      ]
     },
     "execution_count": 63,
     "metadata": {},
     "output_type": "execute_result"
    }
   ],
   "source": [
    "_"
   ]
  },
  {
   "cell_type": "markdown",
   "metadata": {},
   "source": [
    "<h4> 4.Apply the optimizer to the variables/gradients tuple. </h4>\n"
   ]
  },
  {
   "cell_type": "code",
   "execution_count": 64,
   "metadata": {},
   "outputs": [],
   "source": [
    "# Create the training TensorFlow Operation through our optimizer\n",
    "train_op = optimizer.apply_gradients(zip(grads, tvars))"
   ]
  },
  {
   "cell_type": "markdown",
   "metadata": {},
   "source": [
    "<a id=\"ltsm\"></a>\n",
    "<h2>LSTM</h2>\n"
   ]
  },
  {
   "cell_type": "markdown",
   "metadata": {},
   "source": [
    "We learned how the model is build step by step. Noe, let's then create a Class that represents our model. This class needs a few things:\n",
    "<ul>\n",
    "    <li>We have to create the model in accordance with our defined hyperparameters</li>\n",
    "    <li>We have to create the LSTM cell structure and connect them with our RNN structure</li>\n",
    "    <li>We have to create the word embeddings and point them to the input data</li>\n",
    "    <li>We have to create the input structure for our RNN</li>\n",
    "    <li>We need to create a logistic structure to return the probability of our words</li>\n",
    "    <li>We need to create the loss and cost functions for our optimizer to work, and then create the optimizer</li>\n",
    "    <li>And finally, we need to create a training operation that can be run to actually train our model</li>\n",
    "</ul>\n"
   ]
  },
  {
   "cell_type": "code",
   "execution_count": 65,
   "metadata": {},
   "outputs": [],
   "source": [
    "class PTBModel(object):\n",
    "\n",
    "\n",
    "    def __init__(self):\n",
    "        ######################################\n",
    "        # Setting parameters for ease of use #\n",
    "        ######################################\n",
    "        self.batch_size = batch_size\n",
    "        self.num_steps = num_steps\n",
    "        self.hidden_size_l1 = hidden_size_l1\n",
    "        self.hidden_size_l2 = hidden_size_l2\n",
    "        self.vocab_size = vocab_size\n",
    "        self.embeding_vector_size = embeding_vector_size\n",
    "        # Create a variable for the learning rate\n",
    "        self._lr = 1.0\n",
    "        \n",
    "        ###############################################################################\n",
    "        # Initializing the model using keras Sequential API  #\n",
    "        ###############################################################################\n",
    "        \n",
    "        self._model = tf.keras.models.Sequential()\n",
    "        \n",
    "        ####################################################################\n",
    "        # Creating the word embeddings layer and adding it to the sequence #\n",
    "        ####################################################################\n",
    "        with tf.device(\"/cpu:0\"):\n",
    "            # Create the embeddings for our input data. Size is hidden size.\n",
    "            self._embedding_layer = tf.keras.layers.Embedding(self.vocab_size, self.embeding_vector_size,batch_input_shape=(self.batch_size, self.num_steps),trainable=True,name=\"embedding_vocab\")  #[10000x200]\n",
    "            self._model.add(self._embedding_layer)\n",
    "            \n",
    "\n",
    "        ##########################################################################\n",
    "        # Creating the LSTM cell structure and connect it with the RNN structure #\n",
    "        ##########################################################################\n",
    "        # Create the LSTM Cells. \n",
    "        # This creates only the structure for the LSTM and has to be associated with a RNN unit still.\n",
    "        # The argument  of LSTMCell is size of hidden layer, that is, the number of hidden units of the LSTM (inside A). \n",
    "        # LSTM cell processes one word at a time and computes probabilities of the possible continuations of the sentence.\n",
    "        lstm_cell_l1 = tf.keras.layers.LSTMCell(hidden_size_l1)\n",
    "        lstm_cell_l2 = tf.keras.layers.LSTMCell(hidden_size_l2)\n",
    "        \n",
    "\n",
    "        \n",
    "        # By taking in the LSTM cells as parameters, the StackedRNNCells function junctions the LSTM units to the RNN units.\n",
    "        # RNN cell composed sequentially of stacked simple cells.\n",
    "        stacked_lstm = tf.keras.layers.StackedRNNCells([lstm_cell_l1, lstm_cell_l2])\n",
    "\n",
    "\n",
    "        \n",
    "\n",
    "        ############################################\n",
    "        # Creating the input structure for our RNN #\n",
    "        ############################################\n",
    "        # Input structure is 20x[30x200]\n",
    "        # Considering each word is represended by a 200 dimentional vector, and we have 30 batchs, we create 30 word-vectors of size [30xx2000]\n",
    "        # The input structure is fed from the embeddings, which are filled in by the input data\n",
    "        # Feeding a batch of b sentences to a RNN:\n",
    "        # In step 1,  first word of each of the b sentences (in a batch) is input in parallel.  \n",
    "        # In step 2,  second word of each of the b sentences is input in parallel. \n",
    "        # The parallelism is only for efficiency.  \n",
    "        # Each sentence in a batch is handled in parallel, but the network sees one word of a sentence at a time and does the computations accordingly. \n",
    "        # All the computations involving the words of all sentences in a batch at a given time step are done in parallel. \n",
    "\n",
    "        ########################################################################################################\n",
    "        # Instantiating our RNN model and setting stateful to True to feed forward the state to the next layer #\n",
    "        ########################################################################################################\n",
    "        \n",
    "        self._RNNlayer  =  tf.keras.layers.RNN(stacked_lstm,[batch_size, num_steps],return_state=False,stateful=True,trainable=True)\n",
    "        \n",
    "        # Define the initial state, i.e., the model state for the very first data point\n",
    "        # It initialize the state of the LSTM memory. The memory state of the network is initialized with a vector of zeros and gets updated after reading each word.\n",
    "        self._initial_state = tf.Variable(tf.zeros([batch_size,embeding_vector_size]),trainable=False)\n",
    "        self._RNNlayer.inital_state = self._initial_state\n",
    "    \n",
    "        ############################################\n",
    "        # Adding RNN layer to keras sequential API #\n",
    "        ############################################        \n",
    "        self._model.add(self._RNNlayer)\n",
    "        \n",
    "        #self._model.add(tf.keras.layers.LSTM(hidden_size_l1,return_sequences=True,stateful=True))\n",
    "        #self._model.add(tf.keras.layers.LSTM(hidden_size_l2,return_sequences=True))\n",
    "        \n",
    "        \n",
    "        ####################################################################################################\n",
    "        # Instantiating a Dense layer that connects the output to the vocab_size  and adding layer to model#\n",
    "        ####################################################################################################\n",
    "        self._dense = tf.keras.layers.Dense(self.vocab_size)\n",
    "        self._model.add(self._dense)\n",
    " \n",
    "        \n",
    "        ####################################################################################################\n",
    "        # Adding softmax activation layer and deriving probability to each class and adding layer to model #\n",
    "        ####################################################################################################\n",
    "        self._activation = tf.keras.layers.Activation('softmax')\n",
    "        self._model.add(self._activation)\n",
    "\n",
    "        ##########################################################\n",
    "        # Instantiating the stochastic gradient decent optimizer #\n",
    "        ########################################################## \n",
    "        self._optimizer = tf.keras.optimizers.SGD(lr=self._lr, clipnorm=max_grad_norm)\n",
    "        \n",
    "        \n",
    "        ##############################################################################\n",
    "        # Compiling and summarizing the model stacked using the keras sequential API #\n",
    "        ##############################################################################\n",
    "        self._model.compile(loss=self.crossentropy, optimizer=self._optimizer)\n",
    "        self._model.summary()\n",
    "\n",
    "\n",
    "    def crossentropy(self,y_true, y_pred):\n",
    "        return tf.keras.losses.sparse_categorical_crossentropy(y_true, y_pred)\n",
    "\n",
    "    def train_batch(self,_input_data,_targets):\n",
    "        #################################################\n",
    "        # Creating the Training Operation for our Model #\n",
    "        #################################################\n",
    "        # Create a variable for the learning rate\n",
    "        self._lr = tf.Variable(0.0, trainable=False)\n",
    "        # Get all TensorFlow variables marked as \"trainable\" (i.e. all of them except _lr, which we just created)\n",
    "        tvars = self._model.trainable_variables\n",
    "        # Define the gradient clipping threshold\n",
    "        with tf.GradientTape() as tape:\n",
    "            # Forward pass.\n",
    "            output_words_prob = self._model(_input_data)\n",
    "            # Loss value for this batch.\n",
    "            loss  = self.crossentropy(_targets, output_words_prob)\n",
    "            # average across batch and reduce sum\n",
    "            cost = tf.reduce_sum(loss/ self.batch_size)\n",
    "        # Get gradients of loss wrt the trainable variables.\n",
    "        grad_t_list = tape.gradient(cost, tvars)\n",
    "        # Define the gradient clipping threshold\n",
    "        grads, _ = tf.clip_by_global_norm(grad_t_list, max_grad_norm)\n",
    "        # Create the training TensorFlow Operation through our optimizer\n",
    "        train_op = self._optimizer.apply_gradients(zip(grads, tvars))\n",
    "        return cost\n",
    "        \n",
    "    def test_batch(self,_input_data,_targets):\n",
    "        #################################################\n",
    "        # Creating the Testing Operation for our Model #\n",
    "        #################################################\n",
    "        output_words_prob = self._model(_input_data)\n",
    "        loss  = self.crossentropy(_targets, output_words_prob)\n",
    "        # average across batch and reduce sum\n",
    "        cost = tf.reduce_sum(loss/ self.batch_size)\n",
    "\n",
    "        return cost\n",
    "    @classmethod\n",
    "    def instance(cls) : \n",
    "        return PTBModel()"
   ]
  },
  {
   "cell_type": "markdown",
   "metadata": {},
   "source": [
    "With that, the actual structure of our Recurrent Neural Network with Long Short-Term Memory is finished. What remains for us to do is to actually create the methods to run through time -- that is, the <code>run_epoch</code> method to be run at each epoch and a <code>main</code> script which ties all of this together.\n",
    "\n",
    "What our <code>run_epoch</code> method should do is take our input data and feed it to the relevant operations. This will return at the very least the current result for the cost function.\n"
   ]
  },
  {
   "cell_type": "code",
   "execution_count": 66,
   "metadata": {},
   "outputs": [],
   "source": [
    "\n",
    "########################################################################################################################\n",
    "# run_one_epoch takes as parameters  the model instance, the data to be fed, training or testing mode and verbose info #\n",
    "########################################################################################################################\n",
    "def run_one_epoch(m, data,is_training=True,verbose=False):\n",
    "\n",
    "    #Define the epoch size based on the length of the data, batch size and the number of steps\n",
    "    epoch_size = ((len(data) // m.batch_size) - 1) // m.num_steps\n",
    "    start_time = time.time()\n",
    "    costs = 0.\n",
    "    iters = 0\n",
    "    \n",
    "    m._model.reset_states()\n",
    "    \n",
    "    #For each step and data point\n",
    "    for step, (x, y) in enumerate(reader.ptb_iterator(data, m.batch_size, m.num_steps)):\n",
    "        \n",
    "        #Evaluate and return cost, state by running cost, final_state and the function passed as parameter\n",
    "        #y = tf.keras.utils.to_categorical(y, num_classes=vocab_size)\n",
    "        if is_training : \n",
    "            loss=  m.train_batch(x, y)\n",
    "        else :\n",
    "            loss = m.test_batch(x, y)\n",
    "                                   \n",
    "\n",
    "        #Add returned cost to costs (which keeps track of the total costs for this epoch)\n",
    "        costs += loss\n",
    "        \n",
    "        #Add number of steps to iteration counter\n",
    "        iters += m.num_steps\n",
    "\n",
    "        if verbose and step % (epoch_size // 10) == 10:\n",
    "            print(\"Itr %d of %d, perplexity: %.3f speed: %.0f wps\" % (step , epoch_size, np.exp(costs / iters), iters * m.batch_size / (time.time() - start_time)))\n",
    "        \n",
    "\n",
    "\n",
    "    # Returns the Perplexity rating for us to keep track of how the model is evolving\n",
    "    return np.exp(costs / iters)\n"
   ]
  },
  {
   "cell_type": "markdown",
   "metadata": {},
   "source": [
    "Now, we create the <code>main</code> method to tie everything together. The code here reads the data from the directory, using the <code>reader</code> helper module, and then trains and evaluates the model on both a testing and a validating subset of data.\n"
   ]
  },
  {
   "cell_type": "code",
   "execution_count": 67,
   "metadata": {},
   "outputs": [],
   "source": [
    "# Reads the data and separates it into training data, validation data and testing data\n",
    "raw_data = reader.ptb_raw_data(data_dir)\n",
    "train_data, valid_data, test_data, _, _ = raw_data"
   ]
  },
  {
   "cell_type": "code",
   "execution_count": null,
   "metadata": {},
   "outputs": [
    {
     "name": "stdout",
     "output_type": "stream",
     "text": [
      "Model: \"sequential_1\"\n",
      "_________________________________________________________________\n",
      "Layer (type)                 Output Shape              Param #   \n",
      "=================================================================\n",
      "embedding_vocab (Embedding)  (30, 20, 200)             2000000   \n",
      "_________________________________________________________________\n",
      "rnn_1 (RNN)                  (30, 20, 128)             671088    \n",
      "_________________________________________________________________\n",
      "dense_1 (Dense)              (30, 20, 10000)           1290000   \n",
      "_________________________________________________________________\n",
      "activation_1 (Activation)    (30, 20, 10000)           0         \n",
      "=================================================================\n",
      "Total params: 3,961,088\n",
      "Trainable params: 3,955,088\n",
      "Non-trainable params: 6,000\n",
      "_________________________________________________________________\n",
      "Epoch 1 : Learning rate: 1.000\n",
      "Itr 10 of 1549, perplexity: 5095.319 speed: 471 wps\n",
      "Itr 164 of 1549, perplexity: 1090.978 speed: 513 wps\n",
      "Itr 318 of 1549, perplexity: 839.626 speed: 515 wps\n",
      "Itr 472 of 1549, perplexity: 692.954 speed: 516 wps\n",
      "Itr 626 of 1549, perplexity: 588.266 speed: 521 wps\n",
      "Itr 780 of 1549, perplexity: 522.148 speed: 524 wps\n",
      "Itr 934 of 1549, perplexity: 471.291 speed: 529 wps\n",
      "Itr 1088 of 1549, perplexity: 433.030 speed: 530 wps\n",
      "Itr 1242 of 1549, perplexity: 403.616 speed: 531 wps\n",
      "Itr 1396 of 1549, perplexity: 376.061 speed: 532 wps\n",
      "Epoch 1 : Train Perplexity: 354.262\n",
      "Epoch 1 : Valid Perplexity: 210.527\n",
      "Epoch 2 : Learning rate: 1.000\n",
      "Itr 10 of 1549, perplexity: 235.814 speed: 539 wps\n",
      "Itr 164 of 1549, perplexity: 208.923 speed: 531 wps\n",
      "Itr 318 of 1549, perplexity: 200.508 speed: 537 wps\n",
      "Itr 472 of 1549, perplexity: 192.591 speed: 541 wps\n"
     ]
    }
   ],
   "source": [
    "# Instantiates the PTBModel class\n",
    "m=PTBModel.instance()   \n",
    "K = tf.keras.backend \n",
    "for i in range(max_epoch):\n",
    "    # Define the decay for this epoch\n",
    "    lr_decay = decay ** max(i - max_epoch_decay_lr, 0.0)\n",
    "    dcr = learning_rate * lr_decay\n",
    "    m._lr = dcr\n",
    "    K.set_value(m._model.optimizer.learning_rate,m._lr)\n",
    "    print(\"Epoch %d : Learning rate: %.3f\" % (i + 1, m._model.optimizer.learning_rate))\n",
    "    # Run the loop for this epoch in the training mode\n",
    "    train_perplexity = run_one_epoch(m, train_data,is_training=True,verbose=True)\n",
    "    print(\"Epoch %d : Train Perplexity: %.3f\" % (i + 1, train_perplexity))\n",
    "        \n",
    "    # Run the loop for this epoch in the validation mode\n",
    "    valid_perplexity = run_one_epoch(m, valid_data,is_training=False,verbose=False)\n",
    "    print(\"Epoch %d : Valid Perplexity: %.3f\" % (i + 1, valid_perplexity))\n",
    "    \n",
    "# Run the loop in the testing mode to see how effective was our training\n",
    "test_perplexity = run_one_epoch(m, test_data,is_training=False,verbose=False)\n",
    "print(\"Test Perplexity: %.3f\" % test_perplexity)\n",
    "\n"
   ]
  },
  {
   "cell_type": "markdown",
   "metadata": {},
   "source": [
    "As you can see, the model's perplexity rating drops very quickly after a few iterations. As was elaborated before, <b>lower Perplexity means that the model is more certain about its prediction</b>. As such, we can be sure that this model is performing well!\n"
   ]
  },
  {
   "cell_type": "markdown",
   "metadata": {},
   "source": [
    "-------\n"
   ]
  },
  {
   "cell_type": "markdown",
   "metadata": {},
   "source": [
    "This is the end of the <b>Applying Recurrent Neural Networks to Text Processing</b> notebook. Hopefully you now have a better understanding of Recurrent Neural Networks and how to implement one utilizing TensorFlow. Thank you for reading this notebook, and good luck on your studies.\n"
   ]
  },
  {
   "cell_type": "markdown",
   "metadata": {},
   "source": [
    "## Want to learn more?\n",
    "\n",
    "Also, you can use __Watson Studio__ to run these notebooks faster with bigger datasets.__Watson Studio__ is IBM’s leading cloud solution for data scientists, built by data scientists. With Jupyter notebooks, RStudio, Apache Spark and popular libraries pre-packaged in the cloud, __Watson Studio__ enables data scientists to collaborate on their projects without having to install anything. Join the fast-growing community of __Watson Studio__ users today with a free account at [Watson Studio](https://cocl.us/ML0120EN_DSX).This is the end of this lesson. Thank you for reading this notebook, and good luck on your studies.\n"
   ]
  },
  {
   "cell_type": "markdown",
   "metadata": {},
   "source": [
    "### Thanks for completing this lesson!\n",
    "\n",
    "Notebook created by <a href=\"https://br.linkedin.com/in/walter-gomes-de-amorim-junior-624726121?utm_medium=Exinfluencer&utm_source=Exinfluencer&utm_content=000026UJ&utm_term=10006555&utm_id=NA-SkillsNetwork-Channel-SkillsNetworkCoursesIBMDeveloperSkillsNetworkDL0120ENSkillsNetwork954-2022-01-01\">Walter Gomes de Amorim Junior</a>, <a href = \"https://linkedin.com/in/saeedaghabozorgi?utm_medium=Exinfluencer&utm_source=Exinfluencer&utm_content=000026UJ&utm_term=10006555&utm_id=NA-SkillsNetwork-Channel-SkillsNetworkCoursesIBMDeveloperSkillsNetworkDL0120ENSkillsNetwork954-2022-01-01\"> Saeed Aghabozorgi </a></h4>\n",
    "\n",
    "\n",
    "Updated to TF 2.X by  <a href=\"https://www.linkedin.com/in/samaya-madhavan?utm_medium=Exinfluencer&utm_source=Exinfluencer&utm_content=000026UJ&utm_term=10006555&utm_id=NA-SkillsNetwork-Channel-SkillsNetworkCoursesIBMDeveloperSkillsNetworkDL0120ENSkillsNetwork954-2022-01-01\"> Samaya Madhavan </a>\n"
   ]
  },
  {
   "cell_type": "markdown",
   "metadata": {},
   "source": [
    "<hr>\n",
    "\n",
    "Copyright &copy; 2018 [Cognitive Class](https://cocl.us/DX0108EN_CC). This notebook and its source code are released under the terms of the [MIT License](https://bigdatauniversity.com/mit-license/?utm_medium=Exinfluencer&utm_source=Exinfluencer&utm_content=000026UJ&utm_term=10006555&utm_id=NA-SkillsNetwork-Channel-SkillsNetworkCoursesIBMDeveloperSkillsNetworkDL0120ENSkillsNetwork954-2022-01-01).\n"
   ]
  }
 ],
 "metadata": {
  "kernelspec": {
   "display_name": "Python",
   "language": "python",
   "name": "conda-env-python-py"
  },
  "language_info": {
   "codemirror_mode": {
    "name": "ipython",
    "version": 3
   },
   "file_extension": ".py",
   "mimetype": "text/x-python",
   "name": "python",
   "nbconvert_exporter": "python",
   "pygments_lexer": "ipython3",
   "version": "3.7.12"
  }
 },
 "nbformat": 4,
 "nbformat_minor": 4
}
